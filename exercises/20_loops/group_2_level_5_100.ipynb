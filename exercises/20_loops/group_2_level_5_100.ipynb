{
 "cells": [
  {
   "cell_type": "markdown",
   "metadata": {
    "nbgrader": {
     "grade": false,
     "grade_id": "cell-ad7f470c6fa6d8b1",
     "locked": true,
     "schema_version": 1,
     "solution": false
    }
   },
   "source": [
    "<div class=\"alert alert-warning\">\n",
    "<strong>Aufgabe 5</strong>\n",
    "\n",
    "Es soll ein Programm zur automatischen Berechnung mehrerer Kontostände implementiert werden.\n",
    "So soll aus mehreren Listen von Zugängen und Abgängen für verschiedene Konten jeweils der neue Kontostand berechnet werden.\n",
    "\n",
    "Implementieren Sie nun die Funktion `calculate_balances`.\n",
    "Diese Funktion erhält als Parameter eine Liste `transfers`.\n",
    "Diese Liste besteht allerding aus mehreren Listen.\n",
    "So ist jedes Element der Liste `transfers` eine Liste bestehend aus dem Kontonamen als erstem Wert, gefolgt von den Zugängen und Abgängen wie gewohnt.\n",
    "Die Liste sieht also in etwa so aus: `[[\"Kasse\", +500, -200, +30], [\"Immobilien\", +30000, -5000], [\"Fuhrpark\", +500, -20000, +3000]]`.\n",
    "Als Ergebnis soll eine Liste zurückgegeben werden, auch bestehend aus mehreren Listen.\n",
    "Dabei soll jede Liste in der Ergebnisliste jeweils den Kontonamen und den Kontostand beinhalten.\n",
    "Für obiges Beispiel wäre das Ergebnis also `[['Kasse', 330], ['Immobilien', 25000], ['Fuhrpark', -16500]]`.\n",
    "\n",
    "<div class=\"alert alert-block alert-info\"><strong>Hilfe</strong>\n",
    "\n",
    "Sie können Ihre Lösung mit den automatisierten [Tests](#tests) weiter unten im Dokument überprüfen.<br>\n",
    "Eine Einführung in die `for`-Schleife in Python finden Sie [hier](../for_loop.ipynb).\n",
    "</div>"
   ]
  },
  {
   "cell_type": "code",
   "execution_count": 8,
   "metadata": {
    "nbgrader": {
     "grade": false,
     "grade_id": "cell-7ecc30079e6674c8",
     "locked": false,
     "schema_version": 1,
     "solution": true
    }
   },
   "outputs": [
    {
     "name": "stdout",
     "output_type": "stream",
     "text": [
      "Bei \"transfers = [[\"Kasse\", +500, -200, +30], [\"Immobilien\", +30000, -5000]]\" liefert Ihre Funktion: [['Kasse', 330], ['Immobilien', 25000]]\n"
     ]
    }
   ],
   "source": [
    "def calculate_balances(transfers):\n",
    "    \n",
    "    ###BEGIN SOLUTION\n",
    "    balances = []\n",
    "    result = [\"abc\", 0]\n",
    "    # iterate over all lists in input list\n",
    "    for account in transfers:\n",
    "        # get account name\n",
    "        result[0] = account[0]\n",
    "        # iterate over all values in each list from second value to the end\n",
    "        for transfer in account[1:]:\n",
    "            # sum up all values\n",
    "            result[1] += transfer\n",
    "        # append result list to output list\n",
    "        balances.append(result.copy())\n",
    "        # reset the sum\n",
    "        result[1] = 0\n",
    "\n",
    "    ###END SOLUTION\n",
    "    return balances\n",
    "\n",
    "print(\"Bei \\\"transfers = [[\\\"Kasse\\\", +500, -200, +30], [\\\"Immobilien\\\", +30000, -5000]]\\\" liefert Ihre Funktion:\", calculate_balances([[\"Kasse\", +500, -200, +30], [\"Immobilien\", +30000, -5000]]))"
   ]
  },
  {
   "cell_type": "markdown",
   "metadata": {
    "nbgrader": {
     "grade": false,
     "grade_id": "cell-0ef1f13080210419",
     "locked": true,
     "schema_version": 1,
     "solution": false
    }
   },
   "source": [
    "---\n",
    "<a id=\"tests\"></a>\n",
    "# Automatische Tests\n",
    "Ab hier finden Sie einige automatisierte Tests um Ihre Lösungen zu überprüfen. Um Ihre Lösung zu prüfen führen Sie bitte zuerst die Zelle mit Ihrer Lösung und danach die Zelle mit dem zugehörigen Test aus.\n",
    "\n",
    "- Test 1 - Korrekte Übernahme der Kontennamen\n",
    "> Die Kontennamen sollen im Ergebnis jeweils als erstes Element der einzelnen Listen übernommen werden.\n",
    "- Test 2 - Korrekte Berechnung der Kontostände\n",
    "> Die Kontostände sollen für jedes Konto richtig berechnet werden."
   ]
  },
  {
   "cell_type": "code",
   "execution_count": 1,
   "metadata": {
    "pycharm": {
     "name": "#%%\n"
    }
   },
   "outputs": [
    {
     "ename": "IndentationError",
     "evalue": "expected an indented block (<ipython-input-1-9f878bef93f4>, line 22)",
     "output_type": "error",
     "traceback": [
      "\u001b[1;36m  File \u001b[1;32m\"<ipython-input-1-9f878bef93f4>\"\u001b[1;36m, line \u001b[1;32m22\u001b[0m\n\u001b[1;33m    import sys\u001b[0m\n\u001b[1;37m              ^\u001b[0m\n\u001b[1;31mIndentationError\u001b[0m\u001b[1;31m:\u001b[0m expected an indented block\n"
     ]
    }
   ],
   "source": [
    "import unittest\n",
    "class TestNotebookClass(unittest.TestCase):\n",
    "    transfers = [[\"Kasse\", +500, -200, +30], [\"Immobilien\", +30000, -5000], [\"Fuhrpark\", +500, -20000, +3000]]\n",
    "    transfers2 = [[\"Verbindlichkeiten\", +500, -200, +30], [\"Forderungen\", +30000, -5000], [\"Bürobedarf\", +500, -20000, +3000], [\"Lager\", +200, -200, +200, -200]]\n",
    "    transfers3 = [[\"Kasse\", +700, -200, +30, +256, -13, +12], [\"Immobilien\", +30000], [\"Fuhrpark\", +500, -20000, +3000]]\n",
    "    def test11(self):\n",
    "        \"\"\"Test1: Ist alle Unterlisten in balance korrekt?\"\"\"\n",
    "        out = calculate_balances(self.transfers)\n",
    "        self.assertTrue(out[0][0], self.transfers[0][0])\n",
    "        self.assertTrue(out[1][0], self.transfers[1][0])\n",
    "        self.assertTrue(out[2][0], self.transfers[2][0])\n",
    "    def test12(self):\n",
    "        \"\"\"Test1: Ist alle Unterlisten in balance korrekt?\"\"\"\n",
    "        out = calculate_balances(self.transfers)\n",
    "        self.assertTrue(out[0][0], self.transfers2[0][0])\n",
    "        self.assertTrue(out[1][0], self.transfers2[1][0])\n",
    "        self.assertTrue(out[2][0], self.transfers2[2][0])\n",
    "        self.assertTrue(out[3][0], self.transfers2[3][0])\n",
    "    def test21(self):\n",
    "        \"\"\"Test2: Sind die Kontostände in allen Unterlisten in balance korrekt?\"\"\"\n",
    "        out = calculate_balances(self.transfers)\n",
    "        self.assertTrue(out[0][1], self.transfers[0][1])\n",
    "        self.assertTrue(out[1][1], self.transfers[1][1])\n",
    "        self.assertTrue(out[2][1], self.transfers[2][1])\n",
    "    def test22(self):\n",
    "        \"\"\"Test2: Sind die Kontostände in allen Unterlisten in balance korrekt?\"\"\"\n",
    "        out = calculate_balances(self.transfers3)\n",
    "        self.assertTrue(out[0][1], self.transfers3[0][1])\n",
    "        self.assertTrue(out[1][1], self.transfers3[1][1])\n",
    "        self.assertTrue(out[2][1], self.transfers3[2][1])\n",
    "\n",
    "import sys\n",
    "suite = unittest.TestLoader().loadTestsFromTestCase(TestNotebookClass)\n",
    "unittest.TextTestRunner(verbosity=4,stream=sys.stderr).run(suite)"
   ]
  }
 ],
 "metadata": {
  "celltoolbar": "Create Assignment",
  "file_extension": ".py",
  "kernelspec": {
   "display_name": "Python 3",
   "language": "python",
   "name": "python3"
  },
  "language_info": {
   "codemirror_mode": {
    "name": "ipython",
    "version": 3
   },
   "file_extension": ".py",
   "mimetype": "text/x-python",
   "name": "python",
   "nbconvert_exporter": "python",
   "pygments_lexer": "ipython3",
   "version": "3.7.7"
  },
  "mimetype": "text/x-python",
  "name": "python",
  "npconvert_exporter": "python",
  "pycharm": {
   "stem_cell": {
    "cell_type": "raw",
    "metadata": {
     "collapsed": false
    },
    "source": [
     "<nav>\n",
     "    <a href=\"for_loop_exercises.ipynb\">&#9664; Übungsaufgaben zu Schleifen</a> |\n",
     "    <a href=\"group_2_level_4_75.ipynb\">Viel Unterstützung &#9685;</a> |\n",
     "    <a href=\"group_2_level_4.ipynb\">Keine Unterstützung &#9711;</a> |\n",
     "</nav>\n"
    ]
   }
  },
  "pygments_lexer": "ipython3",
  "version": 3
 },
 "nbformat": 4,
 "nbformat_minor": 2
}
