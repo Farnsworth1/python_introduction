{
 "cells": [
  {
   "cell_type": "markdown",
   "metadata": {
    "nbgrader": {
     "grade": false,
     "grade_id": "cell-f9d326a01799dac7",
     "locked": true,
     "schema_version": 1,
     "solution": false
    }
   },
   "source": [
    "<nav>\n",
    "    <a href=\"for_loop_exercises.ipynb\">&#9664; Übungsaufgaben zu Schleifen</a> |\n",
    "    <a href=\"group_2_level_1_75.ipynb\">Viel Unterstützung &#9685;</a> |\n",
    "    <a href=\"group_2_level_1.ipynb\">Keine Unterstützung &#9711;</a> |\n",
    "</nav>"
   ]
  },
  {
   "cell_type": "markdown",
   "metadata": {
    "pycharm": {
     "name": "#%% md\n"
    }
   },
   "source": [
    "<div class=\"alert alert-warning\">\n",
    "<strong>Aufgabe 1</strong>\n",
    "\n",
    "Es soll ein Programm zur automatischen Berechnung eines Kontostandes anhand von Zugängen und Abgängen auf ein Konto implementiert werden.\n",
    "\n",
    "Implementieren Sie nun die Funktion `calculate_balance`. Diese Funktion erhält als Parameter eine Liste `transfers`, welche in Form von Float-Werten die Zugänge und Abgänge auf das Konto angibt (in etwa `[+500.00, -200.00, +0.70, -0.65]`).  \n",
    "Als Ergebnis soll der Kontostand in Form eines Float-Wertes zurückgegeben werden (\"balance\").\n",
    "</div>\n",
    "\n",
    "<div class=\"alert alert-block alert-info\"><strong>Hilfe</strong>\n",
    "\n",
    "Sie können Ihre Lösung mit den automatisierten [Tests](#tests) weiter unten im Dokument überprüfen.<br>\n",
    "Eine Einführung in die `for`-Schleife in Python finden Sie [hier](../for_loop.ipynb).\n",
    "</div>"
   ]
  },
  {
   "cell_type": "code",
   "execution_count": 6,
   "metadata": {
    "nbgrader": {
     "grade": false,
     "grade_id": "cell-e9702910f65c178d",
     "locked": false,
     "schema_version": 1,
     "solution": true
    }
   },
   "outputs": [
    {
     "name": "stdout",
     "output_type": "stream",
     "text": [
      "Bei \"transfers = [20, 30, 40]\" liefert Ihre Funktion: 90\n"
     ]
    }
   ],
   "source": [
    "def calculate_balance(transfers):\n",
    "    \n",
    "    ###BEGIN SOLUTION\n",
    "    # create a sum of all values from input list\n",
    "    balance = 0\n",
    "    for transfer in transfers:\n",
    "        balance += transfer\n",
    "    \n",
    "    ###END SOLUTION\n",
    "    return balance\n",
    "\n",
    "print(\"Bei \\\"transfers = [20, 30, 40]\\\" liefert Ihre Funktion:\", calculate_balance([20, 30, 40]))"
   ]
  },
  {
   "cell_type": "markdown",
   "metadata": {
    "nbgrader": {
     "grade": false,
     "grade_id": "cell-2166c7f39cc28d86",
     "locked": true,
     "schema_version": 1,
     "solution": false
    }
   },
   "source": [
    "---\n",
    "<a id=\"tests\"></a>\n",
    "# Automatische Tests\n",
    "Ab hier finden Sie einige automatisierte Tests um Ihre Lösungen zu überprüfen. Um Ihre Lösung zu prüfen führen Sie bitte zuerst die Zelle mit Ihrer Lösung und danach die Zelle mit dem zugehörigen Test aus.\n",
    "- Test 1 - Korrekte Berechnung\n",
    "> Der Kontostand (`balance`) soll für jede Liste korrekt berechnet werden."
   ]
  },
  {
   "cell_type": "code",
   "execution_count": null,
   "metadata": {
    "pycharm": {
     "name": "#%%\n"
    }
   },
   "outputs": [],
   "source": [
    "import unittest\n",
    "class TestNotebookClass(unittest.TestCase):\n",
    "    def test1(self):\n",
    "        \"\"\"Test1: Sind die zurückgegebenen Ergebnisse korrekt?\"\"\"\n",
    "        transfers = [+519.55, -250.00, -19.37, -12.34, +234.56]\n",
    "        balance = calculate_balance(transfers)\n",
    "        self.assertEqual(balance, 472.40)\n",
    "    def test2(self):\n",
    "        \"\"\"Test1: Sind die zurückgegebenen Ergebnisse korrekt?\"\"\"\n",
    "        transfers = [+99999999.99, -1234567.89, -9876543.22]\n",
    "        balance = calculate_balance(transfers)\n",
    "        self.assertEqual(balance, 88888888.88)\n",
    "    def test3(self):\n",
    "        \"\"\"Test1: Sind die zurückgegebenen Ergebnisse korrekt?\"\"\"\n",
    "        transfers = [-12.34, +20.00]\n",
    "        balance = calculate_balance(transfers)\n",
    "        self.assertEqual(balance, 7.66)\n",
    "\n",
    "import sys\n",
    "suite = unittest.TestLoader().loadTestsFromTestCase(TestNotebookClass)\n",
    "unittest.TextTestRunner(verbosity=4,stream=sys.stderr).run(suite)"
   ]
  }
 ],
 "metadata": {
  "celltoolbar": "Create Assignment",
  "file_extension": ".py",
  "kernelspec": {
   "display_name": "Python 3",
   "language": "python",
   "name": "python3"
  },
  "language_info": {
   "codemirror_mode": {
    "name": "ipython",
    "version": 3
   },
   "file_extension": ".py",
   "mimetype": "text/x-python",
   "name": "python",
   "nbconvert_exporter": "python",
   "pygments_lexer": "ipython3",
   "version": "3.7.7"
  },
  "mimetype": "text/x-python",
  "name": "python",
  "npconvert_exporter": "python",
  "pygments_lexer": "ipython3",
  "version": 3
 },
 "nbformat": 4,
 "nbformat_minor": 2
}
