{
 "cells": [
  {
   "cell_type": "markdown",
   "metadata": {
    "nbgrader": {
     "grade": false,
     "grade_id": "cell-e47441f2aa01ea0f",
     "locked": true,
     "schema_version": 1,
     "solution": false
    }
   },
   "source": [
    "<div class=\"alert alert-warning\">\n",
    "<strong>Aufgabe 3</strong>\n",
    "\n",
    "Im Rahmen der Materialverwaltung soll ein Programm zur automatischen Analyse von Materialeingängen und Materialabgängen implementiert werden. So soll aus einer großen Liste von Eingängen und Abgängen erkannt werden wie der neue Materialbestand ist. Außerdem soll die durchschnittliche Höhe der Materialbewegungen berechnet werden, sowie der größte Ein- oder Abgang bestimmt werden.\n",
    "\n",
    "Implementieren Sie nun die Funktion `analyse_stock`. Diese Funktion erhält als Parameter eine Liste `incoming_outgoing`, welche in Form von Integer-Werten die Eingänge und Abgänge auf das Konto angibt (in etwa `[+500, -200, +70, -65]`).  \n",
    "Als Ergebnis soll der Materialbestand(`stock`) als Integer-Wert sowie die durchschnittliche Höhe(`average`) der Eingänge und Abgänge eines Materials und die höchste Transaktion (`highest_transaction`) zurückgegeben werden.\n",
    "Hierbei sollen sowohl Abgänge als auch Eingänge berücksichtigt werden.\n",
    "</div>\n",
    "\n",
    "\n",
    "<div class=\"alert alert-block alert-info\"><strong>Hilfe</strong>\n",
    "\n",
    "Sie können Ihre Lösung mit den automatisierten [Tests](#tests) weiter unten im Dokument überprüfen.<br>\n",
    "Eine Einführung in die `for`-Schleife in Python finden Sie [hier](../for_loop.ipynb).\n",
    "</div>"
   ]
  },
  {
   "cell_type": "code",
   "execution_count": 6,
   "metadata": {
    "nbgrader": {
     "grade": false,
     "grade_id": "cell-903a8769bae67c57",
     "locked": false,
     "schema_version": 1,
     "solution": true
    }
   },
   "outputs": [
    {
     "name": "stdout",
     "output_type": "stream",
     "text": [
      "Bei \"incoming_outgoing = [20, 30, 40]\" liefert Ihre Funktion: (90, 30.0, 40)\n"
     ]
    }
   ],
   "source": [
    "def analyse_stock(incoming_outgoing):\n",
    "    \n",
    "    ###BEGIN SOLUTION\n",
    "    stock = 0\n",
    "    highest_transaction = 0\n",
    "    for transaction in incoming_outgoing:\n",
    "        stock += transaction\n",
    "        if transaction ** 2 > highest_transaction ** 2:\n",
    "            highest_transaction = transaction\n",
    "    \n",
    "    average = stock / len(incoming_outgoing)\n",
    "    \n",
    "    ###END SOLUTION\n",
    "    return stock, average, highest_transaction\n",
    "\n",
    "print(\"Bei \\\"incoming_outgoing = [20, 30, 40]\\\" liefert Ihre Funktion:\", analyse_stock([20, 30, 40]))"
   ]
  },
  {
   "cell_type": "markdown",
   "metadata": {},
   "source": [
    "---\n",
    "<a id=\"tests\"></a>\n",
    "# Automatische Tests\n",
    "Ab hier finden Sie einige automatisierte Tests um Ihre Lösungen zu überprüfen. Um Ihre Lösung zu prüfen führen Sie bitte zuerst die Zelle mit Ihrer Lösung und danach die Zelle mit dem zugehörigen Test aus.\n",
    "- Test 1 - Korrekte Berechnung des Kontostands\n",
    "> Der Materialbestand (`stock`) soll für jede Liste korrekt berechnet werden.\n",
    "- Test 2 - Korrekte Berechnung des Durchschnitts\n",
    "> Der Durchschnitt (`average`) soll für jede Liste korrekt berechnet werden.\n",
    "- Test 3 - Korrekte Bestimmung der höchsten Materialtransaktion\n",
    "> Die höchste Warenbewegung (`highest_transaction`) soll für jede Liste korrekt bestimmt werden.\n",
    "Hierbei gilt es insbesondere auch Materialabgänge zu berücksichtigen."
   ]
  },
  {
   "cell_type": "code",
   "execution_count": null,
   "metadata": {
    "pycharm": {
     "name": "#%%\n"
    }
   },
   "outputs": [],
   "source": [
    "import unittest\n",
    "class TestNotebookClass(unittest.TestCase):\n",
    "    \"\"\"Testing function create_production_plan\"\"\"\n",
    "    incoming_outgoing1 = [+519, -250, -19, -12, +234]\n",
    "    incoming_outgoing2 = [+99999999, -1234567, -9876543]\n",
    "    incoming_outgoing3 = [-12, +20]\n",
    "    incoming_outgoing4 = [+300, -15, +230, -123, +987]\n",
    "    incoming_outgoing5 = [+200, -200, +200, -200]\n",
    "    incoming_outgoing6 = [+15]\n",
    "    incoming_outgoing7 = [+100, -26, -23, +210, +234]\n",
    "    incoming_outgoing8 = [+300, -500, -23, +210, +234]\n",
    "    def test11(self):\n",
    "        \"\"\"Test1: Ist stock korrekt?\"\"\"\n",
    "        out = analyse_stock(self.incoming_outgoing1)\n",
    "        expected = 472\n",
    "        self.assertTrue(out[0], expected)\n",
    "    def test12(self):\n",
    "        \"\"\"Test1: Ist stock korrekt?\"\"\"\n",
    "        out = analyse_stock(self.incoming_outgoing2)\n",
    "        expected = 88888889\n",
    "        self.assertTrue(out[0], expected)\n",
    "    def test13(self):\n",
    "        \"\"\"Test1: Ist stock korrekt?\"\"\"\n",
    "        out = analyse_stock(self.incoming_outgoing3)\n",
    "        expected = 8\n",
    "        self.assertTrue(out[0], expected)\n",
    "    def test21(self):\n",
    "        \"\"\"Test2: Ist average korrekt?\"\"\"\n",
    "        out = analyse_stock(self.incoming_outgoing4)\n",
    "        expected = 275.8\n",
    "        self.assertTrue(out[1], expected)\n",
    "    def test22(self):\n",
    "        \"\"\"Test2: Ist average korrekt?\"\"\"\n",
    "        out = analyse_stock(self.incoming_outgoing5)\n",
    "        expected = 0\n",
    "        self.assertTrue(out[1], expected)\n",
    "    def test23(self):\n",
    "        \"\"\"Test2: Ist average korrekt?\"\"\"\n",
    "        out = analyse_stock(self.incoming_outgoing6)\n",
    "        expected = 15\n",
    "        self.assertTrue(out[1], expected)\n",
    "    def test31(self):\n",
    "        \"\"\"Test3: Ist highest_transaction korrekt?\"\"\"\n",
    "        out = analyse_stock(self.incoming_outgoing7)\n",
    "        expected = 234\n",
    "        self.assertTrue(out[2], expected)\n",
    "    def test32(self):\n",
    "        \"\"\"Test3: Ist highest_transaction korrekt?\"\"\"\n",
    "        out = analyse_stock(self.incoming_outgoing5)\n",
    "        expected = 200\n",
    "        self.assertTrue(out[2], expected)\n",
    "    def test33(self):\n",
    "        \"\"\"Test3: Ist highest_transaction korrekt?\"\"\"\n",
    "        out = analyse_stock(self.incoming_outgoing6)\n",
    "        expected = 15\n",
    "        self.assertTrue(out[2], expected)\n",
    "    def test34(self):\n",
    "        \"\"\"Test3: Ist highest_transaction korrekt?\"\"\"\n",
    "        out = analyse_stock(self.incoming_outgoing8)\n",
    "        expected = -500\n",
    "        self.assertTrue(out[2], expected)\n",
    "\n",
    "\n",
    "import sys\n",
    "suite = unittest.TestLoader().loadTestsFromTestCase(TestNotebookClass)\n",
    "unittest.TextTestRunner(verbosity=4,stream=sys.stderr).run(suite)"
   ]
  }
 ],
 "metadata": {
  "celltoolbar": "Create Assignment",
  "file_extension": ".py",
  "kernelspec": {
   "display_name": "Python 3",
   "language": "python",
   "name": "python3"
  },
  "language_info": {
   "codemirror_mode": {
    "name": "ipython",
    "version": 3
   },
   "file_extension": ".py",
   "mimetype": "text/x-python",
   "name": "python",
   "nbconvert_exporter": "python",
   "pygments_lexer": "ipython3",
   "version": "3.7.7"
  },
  "mimetype": "text/x-python",
  "name": "python",
  "npconvert_exporter": "python",
  "pycharm": {
   "stem_cell": {
    "cell_type": "raw",
    "metadata": {
     "collapsed": false
    },
    "source": [
     "<nav>\n",
     "    <a href=\"for_loop_exercises.ipynb\">&#9664; Übungsaufgaben zu Schleifen</a> |\n",
     "    <a href=\"group_3_level_3_75.ipynb\">Viel Unterstützung &#9685;</a> |\n",
     "    <a href=\"group_3_level_3.ipynb\">Keine Unterstützung &#9711;</a> |\n",
     "</nav>\n"
    ]
   }
  },
  "pygments_lexer": "ipython3",
  "version": 3
 },
 "nbformat": 4,
 "nbformat_minor": 2
}
