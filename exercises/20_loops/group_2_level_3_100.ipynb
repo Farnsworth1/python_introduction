{
 "cells": [
  {
   "cell_type": "markdown",
   "metadata": {},
   "source": [
    "<nav>\n",
    "    <a href=\"for_loop_exercises.ipynb\">&#9664; Übungsaufgaben zu Schleifen</a> |\n",
    "    <a href=\"group_2_level_3_75.ipynb\">Viel Unterstützung &#9685;</a> |\n",
    "    <a href=\"group_2_level_3.ipynb\">Keine Unterstützung &#9711;</a> |\n",
    "</nav>"
   ]
  },
  {
   "cell_type": "markdown",
   "metadata": {
    "nbgrader": {
     "grade": false,
     "grade_id": "cell-b57059825557eed1",
     "locked": true,
     "schema_version": 1,
     "solution": false
    }
   },
   "source": [
    "<div class=\"alert alert-warning\">\n",
    "<strong>Aufgabe 3</strong>\n",
    "\n",
    "\n",
    "Es soll ein Programm zur automatischen Analyse von Kontobewegungen implementiert werden. So soll aus einer großen Liste von Zugängen und Abgängen erkannt werden wie der neue Kontostand ist. Außerdem soll die durchschnittliche Höhe der Kontobewegungen berechnet werden, sowie der größte Zu- oder Abgang bestimmt werden.\n",
    "\n",
    "Implementieren Sie nun die Funktion `analyse_transfers`. Diese Funktion erhält als Parameter eine Liste `transfers`, welche in Form von Float-Werten die Zugänge und Abgänge auf das Konto angibt (in etwa `[+500.00, -200.00, +0.70, -0.65]`).  \n",
    "Als Ergebnis soll der `Kontostand` als Float-Wert zurückgegeben werden (\"balance\").  \n",
    "Die `durchschnittliche Höhe` einer Kontobewegung (\"average\").  \n",
    "Der `höchste Transfer` (\"highest_transfer\"). Hierbei sollen sowohl negative als auch positive Transfers berücksichtigt werden.  \n",
    "</div>\n",
    "\n",
    "\n",
    "<div class=\"alert alert-block alert-info\"><strong>Hilfe</strong>\n",
    "\n",
    "Sie können Ihre Lösung mit den automatisierten [Tests](#tests) weiter unten im Dokument überprüfen.<br>\n",
    "Eine Einführung in die `for`-Schleife in Python finden Sie [hier](../for_loop.ipynb).\n",
    "</div>"
   ]
  },
  {
   "cell_type": "code",
   "execution_count": 7,
   "metadata": {
    "nbgrader": {
     "grade": false,
     "grade_id": "cell-9debd1ae65757e87",
     "locked": false,
     "schema_version": 1,
     "solution": true
    }
   },
   "outputs": [
    {
     "name": "stdout",
     "output_type": "stream",
     "text": [
      "Bei \"transfers = [20, 30, 40]\" liefert Ihre Funktion: (90, 30.0, 40)\n"
     ]
    }
   ],
   "source": [
    "def analyse_transfers(transfers):\n",
    "    \n",
    "    ###BEGIN SOLUTION\n",
    "    balance = 0\n",
    "    highest_transfer = 0\n",
    "    for transfer in transfers:\n",
    "        # sum up all values in the input list\n",
    "        balance += transfer\n",
    "        # update the highest value\n",
    "        if transfer ** 2 > highest_transfer ** 2:\n",
    "            highest_transfer = transfer\n",
    "    # calculate the average of all summed up values\n",
    "    average = balance / len(transfers)\n",
    "    \n",
    "    ###END SOLUTION\n",
    "    return balance, average, highest_transfer\n",
    "\n",
    "print(\"Bei \\\"transfers = [20, 30, 40]\\\" liefert Ihre Funktion:\", analyse_transfers([20, 30, 40]))"
   ]
  },
  {
   "cell_type": "markdown",
   "metadata": {},
   "source": [
    "---\n",
    "<a id=\"tests\"></a>\n",
    "# Automatische Tests\n",
    "Ab hier finden Sie einige automatisierte Tests um Ihre Lösungen zu überprüfen. Um Ihre Lösung zu prüfen führen Sie bitte zuerst die Zelle mit Ihrer Lösung und danach die Zelle mit dem zugehörigen Test aus.\n",
    "- Test 1 - Korrekte Berechnung des Kontostands\n",
    "> Der Kontostand (`balance`) soll für jede Liste korrekt berechnet werden.\n",
    "- Test 2 - Korrekte Berechnung des Durchschnitts\n",
    "> Der Durchschnitt (`average`) soll für jede Liste korrekt berechnet werden.\n",
    "- Test 3 - Korrekte Bestimmung der höchsten Bankbewegung\n",
    "> Die höchste Bankbewegung (`highest_transfer`) soll für jede Liste korrekt bestimmt werden.\n",
    ">Hierbei gilt es insbesondere auch negative Bewegungen zu berücksichtigen."
   ]
  },
  {
   "cell_type": "code",
   "execution_count": null,
   "metadata": {
    "pycharm": {
     "name": "#%%\n"
    }
   },
   "outputs": [],
   "source": [
    "import unittest\n",
    "class TestNotebookClass(unittest.TestCase):\n",
    "    \"\"\"Testing function create_production_plan\"\"\"\n",
    "    transfers01 = [+519.55, -250.00, -19.37, -12.34, +234.56]\n",
    "    transfers02 = [+99999999.99, -1234567.89, -9876543.22]\n",
    "    transfers03 = [-12.34, +20.00]\n",
    "    transfers1 = [+300.00, -250.00, -23.00, +210.00, +234.00]\n",
    "    transfers2 = [+200.00, -200.00, +200.00, -200.00]\n",
    "    transfers3 = [+15.00]\n",
    "    transfers4 = [+300.00, -500.00, -23.00, +210.00, +234.00]\n",
    "    def test11(self):\n",
    "        \"\"\"Test1: Ist Balance korrekt?\"\"\"\n",
    "        out = analyse_transfers(self.transfers01)\n",
    "        expected = 472.40\n",
    "        self.assertTrue(out[0], expected)\n",
    "    def test12(self):\n",
    "        \"\"\"Test1: Ist Balance korrekt?\"\"\"\n",
    "        out = analyse_transfers(self.transfers02)\n",
    "        expected = 88888888.88\n",
    "        self.assertTrue(out[0], expected)\n",
    "    def test13(self):\n",
    "        \"\"\"Test1: Ist Balance korrekt?\"\"\"\n",
    "        out = analyse_transfers(self.transfers03)\n",
    "        expected = 7.66\n",
    "        self.assertTrue(out[0], expected)\n",
    "    def test21(self):\n",
    "        \"\"\"Test1: Ist Average korrekt?\"\"\"\n",
    "        out = analyse_transfers(self.transfers1)\n",
    "        expected = 94.2\n",
    "        self.assertTrue(out[1], expected)\n",
    "    def test22(self):\n",
    "        \"\"\"Test1: Ist Average korrekt?\"\"\"\n",
    "        out = analyse_transfers(self.transfers2)\n",
    "        expected = 0\n",
    "        self.assertTrue(out[1], expected)\n",
    "    def test23(self):\n",
    "        \"\"\"Test1: Ist Average korrekt?\"\"\"\n",
    "        out = analyse_transfers(self.transfers3)\n",
    "        expected = 15\n",
    "        self.assertTrue(out[1], expected)\n",
    "    def test31(self):\n",
    "        \"\"\"Test1: Ist highest_transfer korrekt?\"\"\"\n",
    "        out = analyse_transfers(self.transfers1)\n",
    "        expected = 300\n",
    "        self.assertTrue(out[2], expected)\n",
    "    def test32(self):\n",
    "        \"\"\"Test1: Ist highest_transfer korrekt?\"\"\"\n",
    "        out = analyse_transfers(self.transfers2)\n",
    "        expected = 200\n",
    "        self.assertTrue(out[2], expected)\n",
    "    def test33(self):\n",
    "        \"\"\"Test1: Ist highest_transfer korrekt?\"\"\"\n",
    "        out = analyse_transfers(self.transfers3)\n",
    "        expected = 15\n",
    "        self.assertTrue(out[2], expected)\n",
    "    def test34(self):\n",
    "        \"\"\"Test1: Ist highest_transfer für negative Buchungen korrekt?\"\"\"\n",
    "        out = analyse_transfers(self.transfers4)\n",
    "        expected = -500\n",
    "        self.assertTrue(out[2], expected)\n",
    "\n",
    "import sys\n",
    "suite = unittest.TestLoader().loadTestsFromTestCase(TestNotebookClass)\n",
    "unittest.TextTestRunner(verbosity=4,stream=sys.stderr).run(suite)"
   ]
  }
 ],
 "metadata": {
  "celltoolbar": "Create Assignment",
  "file_extension": ".py",
  "kernelspec": {
   "display_name": "Python 3",
   "language": "python",
   "name": "python3"
  },
  "language_info": {
   "codemirror_mode": {
    "name": "ipython",
    "version": 3
   },
   "file_extension": ".py",
   "mimetype": "text/x-python",
   "name": "python",
   "nbconvert_exporter": "python",
   "pygments_lexer": "ipython3",
   "version": "3.7.7"
  },
  "mimetype": "text/x-python",
  "name": "python",
  "npconvert_exporter": "python",
  "pygments_lexer": "ipython3",
  "version": 3
 },
 "nbformat": 4,
 "nbformat_minor": 2
}
