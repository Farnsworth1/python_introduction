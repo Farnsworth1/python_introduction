{
 "cells": [
  {
   "cell_type": "markdown",
   "source": [
    "# Aufgabe 1: Fakultät\n",
    "Schreiben Sie eine Funktion `get_factorial(x)`, die die Fakultät der Zahl `x` zurückgibt.\n",
    "\n",
    "Hinweis: $x!=1\\cdot 2\\cdot 3\\cdot ...\\cdot x$."
   ],
   "metadata": {
    "collapsed": false
   }
  },
  {
   "cell_type": "code",
   "execution_count": 4,
   "outputs": [
    {
     "name": "stdout",
     "output_type": "stream",
     "text": [
      "40320\n"
     ]
    }
   ],
   "source": [
    "def get_factorial(x):\n",
    "\n",
    "    ###BEGIN SOLUTION\n",
    "    result = 1\n",
    "    for i in range(1,x+1):\n",
    "        result *= i\n",
    "\n",
    "    ###END SOLUTION\n",
    "    return result\n",
    "\n",
    "print(get_factorial(8))"
   ],
   "metadata": {
    "collapsed": false,
    "pycharm": {
     "name": "#%%\n"
    }
   }
  },
  {
   "cell_type": "markdown",
   "source": [
    "# Aufgabe 2: Binomialkoeffizienten\n",
    "Schreiben Sie eine Funktion 'get_bin_coefficient(n, k)', die den Binominialkoeffizient von $$\\binom{n}{k}$$\n",
    "Du kannst ihn mit folgender Formel berechnen:\n",
    "$$\\binom{n}{k} = \\frac{n!}{k!\\cdot (n-k)!}$$"
   ],
   "metadata": {
    "collapsed": false,
    "pycharm": {
     "name": "#%% md\n"
    }
   }
  },
  {
   "cell_type": "code",
   "execution_count": 13,
   "outputs": [
    {
     "name": "stdout",
     "output_type": "stream",
     "text": [
      "0\n"
     ]
    }
   ],
   "source": [
    "def get_bin_coefficient(n, k):\n",
    "    ###BEGIN SOLUTION\n",
    "    # Note: there is a more efficient solution using multiplicative formula\n",
    "    if k < 0 or k > n:\n",
    "        return 0\n",
    "    if k == 0 or k == n:\n",
    "        return 1\n",
    "\n",
    "    n_fac = 1\n",
    "    k_fac = 1\n",
    "    n_k_fac = 1\n",
    "    for i in range(1, n+1):\n",
    "        n_fac *= i\n",
    "    for i in range(1, k+1):\n",
    "        k_fac *= i\n",
    "    for i in range(1, n-k+1):\n",
    "        n_k_fac *= i\n",
    "    result = n_fac/(k_fac*n_k_fac)\n",
    "\n",
    "    ###END SOLUTION\n",
    "    return result\n",
    "\n",
    "print(get_bin_coefficient(3,4))"
   ],
   "metadata": {
    "collapsed": false,
    "pycharm": {
     "name": "#%%\n"
    }
   }
  },
  {
   "cell_type": "markdown",
   "metadata": {
    "collapsed": true,
    "pycharm": {
     "name": "#%% md\n"
    }
   },
   "source": [
    "# Aufgabe 3: Geburtstagsparadoxon\n",
    "Die Wahrscheinlichkeit, dass zwei Menschen in einer Gruppevon `n` Menschen am gleichen Tag Geburtstag haben,\n",
    "beträgt $$P(n) = 1 - \\frac{365\\cdot 364\\cdot ... \\cdot (365-(n-1))}{365^{n}}$$\n",
    "\n",
    "Schreiben Sie eine Funktion `double_birthday(size)`,\n",
    "die die Wahrscheinlichkeit zurückgibt, dass in einer Grupe von `size` Personen zwei am gleichen Tag Geburtstag haben.\n",
    "Nehmen Sie an, dass `size`$\\geq 1$ ist."
   ]
  },
  {
   "cell_type": "code",
   "execution_count": 14,
   "outputs": [],
   "source": [
    "def double_birthday(size):\n",
    "\n",
    "    ###BEGIN SOLUTION\n",
    "    # calculate facutly of 365\n",
    "    faculty = 1\n",
    "    for i in range(1, 365+1):\n",
    "        faculty *= i\n",
    "    # calculate 365 to the power of size\n",
    "    power = 1\n",
    "    for i in range(1, size+1):\n",
    "        power *= 365\n",
    "    # calculate probability\n",
    "    probability = 1 - (faculty * (365 - size + 1))/power\n",
    "\n",
    "    ###END SOLUTION\n",
    "    return probability\n",
    "\n"
   ],
   "metadata": {
    "collapsed": false,
    "pycharm": {
     "name": "#%%\n"
    }
   }
  },
  {
   "cell_type": "markdown",
   "source": [
    "# Aufgabe 1: Arithmetische Mittel\n",
    "Laut statistische Bundesamt ist der Auftragseingang im Verarbeitenden Gewerbe für Kraftwagen und Kraftwagenteile wie im\n",
    "Bild unten dargestellt."
   ],
   "metadata": {
    "collapsed": false,
    "pycharm": {
     "name": "#%% md\n"
    }
   }
  },
  {
   "cell_type": "code",
   "execution_count": 27,
   "outputs": [
    {
     "data": {
      "text/plain": "<matplotlib.lines.Line2D at 0x21c4bf73b48>"
     },
     "execution_count": 27,
     "metadata": {},
     "output_type": "execute_result"
    },
    {
     "data": {
      "text/plain": "<Figure size 432x288 with 1 Axes>",
      "image/png": "[encoded data removed]"
     },
     "metadata": {
      "needs_background": "light"
     },
     "output_type": "display_data"
    }
   ],
   "source": [
    "import matplotlib.pyplot as plt\n",
    "import pandas as pd\n",
    "import numpy as np\n",
    "data = pd.read_csv('auftragseingangsindex-2008-2020.csv', sep=\";\",decimal=\",\")\n",
    "\n",
    "x=list(data['Monat'])\n",
    "y=list(data['Kraftwagen und Kraftwagenteile'].astype(float))\n",
    "labels = list(data['Labels'].drop_duplicates())\n",
    "\n",
    "ax = plt.plot(x,y, marker='o')\n",
    "locs = plt.xticks(np.append(np.arange(0,150,20),149))\n",
    "plt.gcf().autofmt_xdate()\n",
    "mean = data['Kraftwagen und Kraftwagenteile'].astype(float).mean()\n",
    "plt.axhline(y=mean, color='r')"
   ],
   "metadata": {
    "collapsed": false,
    "pycharm": {
     "name": "#%%\n"
    }
   }
  },
  {
   "cell_type": "markdown",
   "source": [
    "Im Bild ist der Arithmetische Mittel mit einer roten Gerade Dargestellt.\n",
    "Schreiben Sie eine Funktion ``get_mean(probs)``, die den arithmetischen Mittel berechnet.\n",
    "Sie bekommen eine Liste von Stichproben `probs`. Berechnen Sie den arithmetischen Mittel der Stichporben\n",
    "mit Hilfe folgender Formel: $$\\bar{x} = \\frac{1}{n}(x_1 + x_2 + ... + x_n) = \\frac{1}{n}  \\sum_{i=1}^{n}x_i$$\n"
   ],
   "metadata": {
    "collapsed": false,
    "pycharm": {
     "name": "#%% md\n"
    }
   }
  },
  {
   "cell_type": "markdown",
   "source": [
    "# Aufgabe 2: Standardabweichung\n",
    "Die Standardabweichung ist ein Maß für die Streuung von Daten.\n",
    "Sie gibt an, in welchem Umfang erhobene Werte von ihrem Durchschnittswert abweichen.\n",
    "Für die Berechnung der Standardabweichung wird folgender Formel verwendet\n",
    "\n",
    "$$s = \\sqrt{\\frac{1}{n-1}\\sum_{i=1}^{n}(x_i - \\bar{x})^2}$$\n",
    "\n",
    "Wobei\n",
    "\n",
    "$s$ die Standardabweichung der Stichporbe\n",
    "\n",
    "$n$ Gesamtzahl der Beobachtungen\n",
    "\n",
    "$x_i$ Beobachtungswert\n",
    "\n",
    "$\\bar{x}$ arithmetisches Mittel (Mittelwert) der Stichprobe sind.\n",
    "\n",
    "Schreiben Sie eine Funktion ``get_var(probs)``, die die Standardabweichung berechnet.\n",
    "Sie bekommen eine Liste von Stichproben `probs`. Verwenden Sie dafür die oben erwähnte Formel."
   ],
   "metadata": {
    "collapsed": false,
    "pycharm": {
     "name": "#%% md\n"
    }
   }
  },
  {
   "cell_type": "markdown",
   "source": [
    "# Aufgabe 3: Kovarianz\n",
    "Die Kovarianz gibt Ihnen Auskunft über den Zusammenhang von zwei metrischen Variablen.\n",
    "Für die Berechnung der Kovarianz wird folgender Formel verwendet\n",
    "\n",
    "$$s_{xy}= \\frac{1}{n-1} \\sum_{i=1}^{n}(x_i - \\bar{x})(y_i - \\bar{y})$$\n",
    "\n",
    "Wobei\n",
    "\n",
    "$s_{xy}$ Kovarianz der Variablen x und y\n",
    "\n",
    "$n$ Gesamtanzahl der Beobachtungen\n",
    "\n",
    "$x_i$ Beobachtungswert der Variable x\n",
    "\n",
    "$\\bar{x}$ arithmetisches Mittel der Variable x\n",
    "\n",
    "$y_i$ Beobachtungswert der Variable y\n",
    "\n",
    "$\\bar{y}$ arithmetisches Mittel der Variable y sind.\n",
    "\n",
    "Schreiben Sie eine Funktion ``get_covar(xprobs, yprobs)``, die die Kovarianz berechnet.\n",
    "Sie bekommen zwei Listen von Stichproben `xprobs` und `yprobs`. Verwenden Sie dafür die oben erwähnte Formel."
   ],
   "metadata": {
    "collapsed": false,
    "pycharm": {
     "name": "#%% md\n"
    }
   }
  },
  {
   "cell_type": "markdown",
   "source": [
    "# Aufgabe 4: Korrelationskoeffizient\n",
    "Die Korrelation informiert uns über den Grad des Zusammenhangs zwischen zwei Variablen.\n",
    "Folgendes Bild zeigt die Korelation zwischen `Gesamte Rechnung` und `Trinkgeld` ,die die Kunden\n",
    "geben."
   ],
   "metadata": {
    "collapsed": false,
    "pycharm": {
     "name": "#%% md\n"
    }
   }
  },
  {
   "cell_type": "code",
   "execution_count": 32,
   "outputs": [
    {
     "data": {
      "text/plain": "<Figure size 432x288 with 1 Axes>",
      "image/png": "[encoded data removed]"
     },
     "metadata": {
      "needs_background": "light"
     },
     "output_type": "display_data"
    }
   ],
   "source": [
    "import seaborn as sb\n",
    "from matplotlib import pyplot as plt\n",
    "df = sb.load_dataset('tips')\n",
    "sb.regplot(x = \"total_bill\", y = \"tip\",\n",
    "           data = df, marker=\"+\")\n",
    "plt.show()"
   ],
   "metadata": {
    "collapsed": false,
    "pycharm": {
     "name": "#%%\n"
    }
   }
  },
  {
   "cell_type": "markdown",
   "source": [
    "Dabei lässit sich der Korrelationskoeffizient mit folgender Formel berechnen.\n",
    "\n",
    "$$r = \\frac{s_{xy}}{s_x s_y}$$\n",
    "\n",
    "Wobei\n",
    "\n",
    "$s_{xy}$ Kovarianz der Variablen x und y\n",
    "\n",
    "$s_x$ Standardabweichung der Variable x\n",
    "\n",
    "$s_y$ Standardabweichung der Variable y\n",
    "\n",
    "$r$ Korrelationskoeffizient sind.\n",
    "\n",
    "\n",
    "Schreiben Sie eine Funktion ``get_cov_coeff(xprobs, yprobs)``, , die Korrelationskoeffizient berechnet.\n",
    "Sie bekommen zwei Listen von Stichproben `xprobs` und `yprobs`. Verwenden Sie dafür die oben erwähnte Formel."
   ],
   "metadata": {
    "collapsed": false,
    "pycharm": {
     "name": "#%% md\n"
    }
   }
  }
 ],
 "metadata": {
  "kernelspec": {
   "display_name": "Python 3",
   "language": "python",
   "name": "python3"
  },
  "language_info": {
   "codemirror_mode": {
    "name": "ipython",
    "version": 2
   },
   "file_extension": ".py",
   "mimetype": "text/x-python",
   "name": "python",
   "nbconvert_exporter": "python",
   "pygments_lexer": "ipython2",
   "version": "2.7.6"
  }
 },
 "nbformat": 4,
 "nbformat_minor": 0
}