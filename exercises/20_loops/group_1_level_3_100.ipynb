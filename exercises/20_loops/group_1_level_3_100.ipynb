{
 "cells": [
  {
   "cell_type": "markdown",
   "metadata": {},
   "source": [
    "<nav>\n",
    "    <a href=\"for_loop_exercises.ipynb\">&#9664; Übungsaufgaben zu Schleifen</a> |\n",
    "    <a href=\"group_1_level_3_75.ipynb\">Viel Unterstützung &#9685;</a> |\n",
    "    <a href=\"group_1_level_3.ipynb\">Keine Unterstützung &#9711;</a> |\n",
    "</nav>"
   ]
  },
  {
   "cell_type": "markdown",
   "metadata": {
    "nbgrader": {
     "grade": false,
     "grade_id": "cell-3b8cdecf8a1eef88",
     "locked": true,
     "schema_version": 1,
     "solution": false
    }
   },
   "source": [
    "<div class=\"alert alert-warning\">\n",
    "<strong>Aufgabe 3 - Produktionsmengenplanung</strong>\n",
    "\n",
    "Gegeben sind zwei Listen: die Absatzprognosen `sales_plan` sowie Ziellagerbestände eines Produktes für die nächsten 12 Monate `target_stock`.\n",
    "Erstellen Sie eine neue Liste, in der Sie die Produktionsmengen für die jeweiligen Monate speichern.  \n",
    "Beachten Sie die Lagerbestände aus dem jeweils vorhergehenden Monat in den nächsten Monat zu übernehmen.\n",
    "</div>\n",
    "\n",
    "<div class=\"alert alert-block alert-info\"><strong>Hilfe</strong>\n",
    "\n",
    "Sie können Ihre Lösung mit den automatisierten [Tests](#tests) weiter unten im Dokument überprüfen.<br>\n",
    "Eine Einführung in die `for`-Schleife in Python finden Sie [hier](../for_loop.ipynb).\n",
    "</div>"
   ]
  },
  {
   "cell_type": "code",
   "execution_count": 5,
   "metadata": {
    "nbgrader": {
     "grade": false,
     "grade_id": "cell-073db0e144d454aa",
     "locked": false,
     "schema_version": 1,
     "solution": true
    }
   },
   "outputs": [
    {
     "name": "stdout",
     "output_type": "stream",
     "text": [
      "Bei \"sales_plan = [20, 30, 40]\" und \"target_stock = [50, 60, 65]\" liefert Ihre Funktion: [70, 40, 45]\n"
     ]
    }
   ],
   "source": [
    "def create_production_plan(sales_plan, target_stock):\n",
    "    \n",
    "    ###BEGIN SOLUTION\n",
    "    production_plan = []\n",
    "    previous_stock = 0\n",
    "    for month in range(len(sales_plan)):\n",
    "        production_plan.append(target_stock[month] + sales_plan[month] - previous_stock)\n",
    "        previous_stock = target_stock[month]\n",
    "        \n",
    "    ###END SOLUTION\n",
    "    return production_plan\n",
    "\n",
    "print(\"Bei \\\"sales_plan = [20, 30, 40]\\\" und \\\"target_stock = [50, 60, 65]\\\" liefert Ihre Funktion:\", create_production_plan([20, 30, 40], [50, 60, 65]))"
   ]
  },
  {
   "cell_type": "markdown",
   "metadata": {
    "nbgrader": {
     "grade": false,
     "grade_id": "cell-e99d97c0a3acc185",
     "locked": true,
     "schema_version": 1,
     "solution": false
    }
   },
   "source": [
    "---\n",
    "<a id=\"tests\"></a>\n",
    "# Automatische Tests\n",
    "Ab hier finden Sie einige automatisierte Tests um Ihre Lösungen zu überprüfen. Um Ihre Lösung zu prüfen führen Sie bitte zuerst die Zelle mit Ihrer Lösung und danach die Zelle mit dem zugehörigen Test aus.\n",
    "- Einfacher Test\n",
    "> Es werden typische Fehler bei der Programmierung aufgedeckt\n",
    "- Test 1 - Länge der Ergebnisliste\n",
    "> Das von der Funktion create_production_plan zurückgegebene Ergebnis production_plan ist eine Liste. Diese Liste muss genau so viele Einträge enthalten wie die übergebenen Listen sales_plan und target_stock. In diesem Test hat die übergebene Liste die Länge 12.\n",
    "- Test 2 - Korrekte Berechnung der Produktionsmengen\n",
    "> Die von der Funktion create_production_plan zurückgegebene Liste production_plan muss die korrekten Produktionsmengen in Abhängigkeit von den übergebenen Absatzmengen und Ziellagerbeständen enthalten."
   ]
  },
  {
   "cell_type": "code",
   "execution_count": null,
   "outputs": [],
   "source": [
    "# import unittest\n",
    "import os\n",
    "import sys\n",
    "module_path = os.path.abspath(os.path.join('..','..'))\n",
    "if module_path not in sys.path:\n",
    "    sys.path.append(module_path)\n",
    "from utils.test_basic import test\n",
    "print(test(create_production_plan))\n",
    "\n",
    "import unittest\n",
    "class TestNotebookClass(unittest.TestCase):\n",
    "    def test_length(self):\n",
    "        \"\"\"Test1: Is die Ausgabe eine Liste mit 12 Einträgen?\"\"\"\n",
    "        input1 = [0, 0, 0, 0, 0, 0, 0, 0, 0, 0, 0, 0]\n",
    "        input2 = [0, 0, 0, 0, 0, 0, 0, 0, 0, 0, 0, 0]\n",
    "        stock_forecast = create_production_plan(input1, input2)\n",
    "\n",
    "        self.assertEqual(len(stock_forecast), 12)\n",
    "\n",
    "    def test_correct_result(self):\n",
    "        \"\"\"Test2: Sind die berechneten Produktionsmengen korrekt?\"\"\"\n",
    "        sales_plan = [570, 500, 520, 500, 600, 550, 530, 520, 530, 590, 600, 590]\n",
    "        target_stock = [100, 100, 150, 100, 200, 100, 150, 100, 150, 100, 100, 50]\n",
    "        expected_production_plan = [670, 500, 570, 450, 700, 450, 580, 470, 580, 540, 600, 540]\n",
    "        self.assertEqual(create_production_plan(sales_plan, target_stock), expected_production_plan)\n",
    "\n",
    "import sys\n",
    "suite = unittest.TestLoader().loadTestsFromTestCase(TestNotebookClass)\n",
    "unittest.TextTestRunner(verbosity=4,stream=sys.stderr).run(suite)"
   ],
   "metadata": {
    "collapsed": false,
    "pycharm": {
     "name": "#%%\n"
    }
   }
  }
 ],
 "metadata": {
  "celltoolbar": "Create Assignment",
  "kernelspec": {
   "display_name": "Python 3",
   "language": "python",
   "name": "python3"
  },
  "language_info": {
   "codemirror_mode": {
    "name": "ipython",
    "version": 3
   },
   "file_extension": ".py",
   "mimetype": "text/x-python",
   "name": "python",
   "nbconvert_exporter": "python",
   "pygments_lexer": "ipython3",
   "version": "3.7.7"
  }
 },
 "nbformat": 4,
 "nbformat_minor": 2
}