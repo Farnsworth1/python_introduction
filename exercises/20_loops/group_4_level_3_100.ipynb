{
 "cells": [
  {
   "cell_type": "markdown",
   "metadata": {
    "nbgrader": {
     "grade": false,
     "grade_id": "cell-548c13fd68925536",
     "locked": true,
     "schema_version": 1,
     "solution": false
    }
   },
   "source": [
    "<div class=\"alert alert-warning\">\n",
    "<strong>Aufgabe 3</strong>\n",
    "\n",
    "Im Rahmen der Steuerrechnung soll ein Programm zur automatischen Analyse der Umsatzsteuer, welche von Ihrem Unternehmen eingenommen wird, implementiert werden. Dazu sollen die Netto-Verkaufspreise analysiert werden. So soll aus einer Liste mit vielen Einnahmen heruasgefiltert werden, welches die höchste eingenommene Umsatzsteuer ist. Außerdem sollen der durchschnitt sowie die Summe aller eingenommenen Umsatzsteuern berechnet werden.\n",
    "\n",
    "Implementieren Sie nun die Funktion `analyse_taxes`. Diese Funktion erhält als Parameter eine Liste `sales`, welche in Form von Float-Werten die Netto-Verkaufspreise aller verkauften Artikel angibt (in etwa `[500.00, 299.99, 1.79, 149.49]`).   \n",
    "Als Ergebnis soll der gesamte Betrag, welcher durch die Umsatzsteuer eingenommen wurde, in Form eines Float-Wertes zurückgegeben werden (\"taxes\").   \n",
    "Die durchschnittliche Höhe der Umsatzsteuer (\"average\").  \n",
    "Der höchste Betrag, welcher durch die Umsatzsteuer an einem Artikel eingenommen wurde, in Form eines Float-Wertes (\"highest_tax\").   \n",
    "\n",
    "Tipp: $ Umsatzsteuer = Nettobetrag * 0.19 $\n",
    "\n",
    "</div>\n",
    "\n",
    "<div class=\"alert alert-block alert-info\"><strong>Hilfe</strong>\n",
    "\n",
    "Sie können Ihre Lösung mit den automatisierten [Tests](#tests) weiter unten im Dokument überprüfen.<br>\n",
    "Eine Einführung in die `for`-Schleife in Python finden Sie [hier](../for_loop.ipynb).\n",
    "</div>"
   ]
  },
  {
   "cell_type": "code",
   "execution_count": 4,
   "metadata": {
    "nbgrader": {
     "grade": false,
     "grade_id": "cell-ea4effec3a83d25e",
     "locked": false,
     "schema_version": 1,
     "solution": true
    }
   },
   "outputs": [
    {
     "name": "stdout",
     "output_type": "stream",
     "text": [
      "Bei \"sales = [20, 30, 40]\" liefert Ihre Funktion: (17.1, 5.7, 7.6)\n"
     ]
    }
   ],
   "source": [
    "def analyse_taxes(sales):\n",
    "    \n",
    "    ###BEGIN SOLUTION\n",
    "    taxes = 0\n",
    "    highest_tax = 0\n",
    "    for sale in sales:\n",
    "        taxes += sale *0.19\n",
    "        if (sale * 0.19) > highest_tax:\n",
    "            highest_tax = sale * 0.19\n",
    "            \n",
    "    average = taxes / len(sales)\n",
    "    \n",
    "    ###END SOLUTION\n",
    "    return taxes, average, highest_tax\n",
    "\n",
    "print(\"Bei \\\"sales = [20, 30, 40]\\\" liefert Ihre Funktion:\", analyse_taxes([20, 30, 40]))"
   ]
  },
  {
   "cell_type": "markdown",
   "metadata": {
    "nbgrader": {
     "grade": false,
     "grade_id": "cell-238c77e1e478a6b7",
     "locked": true,
     "schema_version": 1,
     "solution": false
    }
   },
   "source": [
    "---\n",
    "<a id=\"tests\"></a>\n",
    "# Automatische Tests\n",
    "Ab hier finden Sie einige automatisierte Tests um Ihre Lösungen zu überprüfen. Um Ihre Lösung zu prüfen führen Sie bitte zuerst die Zelle mit Ihrer Lösung und danach die Zelle mit dem zugehörigen Test aus.\n",
    "- Test 1 - Korrekte Berechnung der gesamten Umsatzsteuer\n",
    "> Die Umsatzsteuer (`taxes`) soll für jede Liste korrekt berechnet werden.\n",
    "- Test 2 - Korrekte Berechnung des Durchschnitts\n",
    "> Der Durchschnitt (`average`) soll für jede Liste korrekt berechnet werden.\n",
    "- Test 3 - Korrekte Bestimmung der höchsten Umsatzsteuer\n",
    "> Der Betrag (`highest_tax`) soll für jede Liste korrekt herausgefiltert werden."
   ]
  },
  {
   "cell_type": "code",
   "execution_count": 2,
   "metadata": {
    "nbgrader": {
     "grade": true,
     "grade_id": "cell-8baa31006b25d951",
     "locked": true,
     "points": 0,
     "schema_version": 1,
     "solution": false
    },
    "pycharm": {
     "name": "#%%\n"
    }
   },
   "outputs": [],
   "source": [
    "import unittest\n",
    "class TestNotebookClass(unittest.TestCase):\n",
    "    \"\"\"Testing function create_production_plan\"\"\"\n",
    "    sales1 = [300, 250.45, 19.78, 123.56, 50.23]\n",
    "    sales2 = [99999999, 1234567, 9876543]\n",
    "    sales3 = [12, 20]\n",
    "    sales4 = [500, 250.45, 19.78, 123.56, 50.23]\n",
    "    sales5 = [20]\n",
    "    def test11(self):\n",
    "        \"\"\"Test1: Ist taxes korrekt?\"\"\"\n",
    "        out = analyse_taxes(self.sales1)\n",
    "        expected = 141.3638\n",
    "        self.assertTrue(out[0], expected)\n",
    "    def test12(self):\n",
    "        \"\"\"Test1: Ist taxes korrekt?\"\"\"\n",
    "        out = analyse_taxes(self.sales2)\n",
    "        expected = 21111110.71\n",
    "        self.assertTrue(out[0], expected)\n",
    "    def test13(self):\n",
    "        \"\"\"Test1: Ist taxes korrekt?\"\"\"\n",
    "        out = analyse_taxes(self.sales3)\n",
    "        expected = 6.08\n",
    "        self.assertTrue(out[0], expected)\n",
    "    def test21(self):\n",
    "        \"\"\"Test2: Ist average korrekt?\"\"\"\n",
    "        out = analyse_taxes(self.sales4)\n",
    "        expected = 35.87276\n",
    "        self.assertTrue(out[2], expected)\n",
    "    def test22(self):\n",
    "        \"\"\"Test2: Ist average korrekt?\"\"\"\n",
    "        out = analyse_taxes(self.sales2)\n",
    "        expected = 7037036.903333333\n",
    "        self.assertTrue(out[2], expected)\n",
    "    def test23(self):\n",
    "        \"\"\"Test2: Ist average korrekt?\"\"\"\n",
    "        out = analyse_taxes(self.sales3)\n",
    "        expected = 3.04\n",
    "        self.assertTrue(out[2], expected)\n",
    "    def test24(self):\n",
    "        \"\"\"Test2: Ist average korrekt?\"\"\"\n",
    "        out = analyse_taxes(self.sales5)\n",
    "        expected = 3.8\n",
    "        self.assertTrue(out[2], expected)\n",
    "    def test31(self):\n",
    "        \"\"\"Test3: Ist highest_tax korrekt?\"\"\"\n",
    "        out = analyse_taxes(self.sales1)\n",
    "        expected = 57\n",
    "        self.assertTrue(out[3], expected)\n",
    "    def test32(self):\n",
    "        \"\"\"Test3: Ist highest_tax korrekt?\"\"\"\n",
    "        out = analyse_taxes(self.sales2)\n",
    "        expected = 18999999.81\n",
    "        self.assertTrue(out[3], expected)\n",
    "    def test33(self):\n",
    "        \"\"\"Test3: Ist highest_tax korrekt?\"\"\"\n",
    "        out = analyse_taxes(self.sales3)\n",
    "        expected = 3.8\n",
    "        self.assertTrue(out[3], expected)\n",
    "    def test34(self):\n",
    "        \"\"\"Test3: Ist highest_tax korrekt?\"\"\"\n",
    "        out = analyse_taxes(self.sales5)\n",
    "        expected = 3.8\n",
    "        self.assertTrue(out[3], expected)\n",
    "\n",
    "import sys\n",
    "suite = unittest.TestLoader().loadTestsFromTestCase(TestNotebookClass)\n",
    "unittest.TextTestRunner(verbosity=4,stream=sys.stderr).run(suite)"
   ]
  }
 ],
 "metadata": {
  "celltoolbar": "Create Assignment",
  "file_extension": ".py",
  "kernelspec": {
   "display_name": "Python 3",
   "language": "python",
   "name": "python3"
  },
  "language_info": {
   "codemirror_mode": {
    "name": "ipython",
    "version": 3
   },
   "file_extension": ".py",
   "mimetype": "text/x-python",
   "name": "python",
   "nbconvert_exporter": "python",
   "pygments_lexer": "ipython3",
   "version": "3.7.7"
  },
  "mimetype": "text/x-python",
  "name": "python",
  "npconvert_exporter": "python",
  "pycharm": {
   "stem_cell": {
    "cell_type": "raw",
    "metadata": {
     "collapsed": false
    },
    "source": [
     "<nav>\n",
     "    <a href=\"for_loop_exercises.ipynb\">&#9664; Übungsaufgaben zu Schleifen</a> |\n",
     "    <a href=\"group_4_level_3_75.ipynb\">Viel Unterstützung &#9685;</a> |\n",
     "    <a href=\"group_4_level_3.ipynb\">Keine Unterstützung &#9711;</a> |\n",
     "</nav>\n"
    ]
   }
  },
  "pygments_lexer": "ipython3",
  "version": 3
 },
 "nbformat": 4,
 "nbformat_minor": 2
}
