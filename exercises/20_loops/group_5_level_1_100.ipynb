{
 "cells": [
  {
   "cell_type": "markdown",
   "metadata": {
    "nbgrader": {
     "grade": false,
     "grade_id": "cell-764dc3775403b2d4",
     "locked": true,
     "schema_version": 1,
     "solution": false
    }
   },
   "source": [
    "<div class=\"alert alert-warning\">\n",
    "<strong>Aufgabe 1</strong>\n",
    "\n",
    "Für Ihren Online-Shop möchten Sie ein Programm implementieren, welches einen Gutscheincode überprüft und gegebenenfalls anwendet wenn dieser korrekt ist.  \n",
    "\n",
    "Implementieren Sie nun die Funktion `validate_coupon`. Diese Funktion soll nach einer Eingabe verlangen. Stimmt diese Eingabe *nicht* mit dem aktuellen Couponcode \"Winter19\" überein, so soll die Eingabe immer weiter wiederholt werden, bis die richtige Eingabe erfolgt. Das soll folgendermaßen aussehen:  \n",
    "\n",
    "Coupon Code: __12345678__  \n",
    "Coupon Code: __passwort__  \n",
    "Coupon Code: __winter19__  \n",
    "Coupon Code: __Winter19__  \n",
    "Coupon angewendet.\n",
    "\n",
    "</div>\n",
    "\n",
    "\n",
    "<div class=\"alert alert-block alert-info\"><strong>Hilfe</strong>\n",
    "\n",
    "Sie können Ihre Lösung mit den automatisierten [Tests](#tests) weiter unten im Dokument überprüfen.<br>\n",
    "Eine Einführung in die `for`-Schleife in Python finden Sie [hier](../for_loop.ipynb).\n",
    "</div>"
   ]
  },
  {
   "cell_type": "code",
   "execution_count": 3,
   "metadata": {
    "nbgrader": {
     "grade": false,
     "grade_id": "cell-1e0d00fceb6de555",
     "locked": false,
     "schema_version": 1,
     "solution": true
    }
   },
   "outputs": [
    {
     "name": "stdout",
     "output_type": "stream",
     "text": [
      "Coupon Code: Winter19\n",
      "Coupon angewendet.\n"
     ]
    }
   ],
   "source": [
    "def validate_coupon():\n",
    "    \n",
    "    ###BEGIN SOLUTION\n",
    "    \n",
    "    eingabe = input(\"Coupon Code: \")\n",
    "    while eingabe != \"Winter19\":\n",
    "        eingabe = input(\"Coupon Code: \")\n",
    "        \n",
    "    print(\"Coupon angewendet.\")\n",
    "    \n",
    "    ###END SOLUTION\n",
    "    \n",
    "    return\n",
    "\n",
    "validate_coupon()"
   ]
  },
  {
   "cell_type": "markdown",
   "metadata": {
    "nbgrader": {
     "grade": false,
     "grade_id": "cell-b038a7a0b71b1a52",
     "locked": true,
     "schema_version": 1,
     "solution": false
    }
   },
   "source": [
    "---\n",
    "<a id=\"tests\"></a>\n",
    "# Automatische Tests\n",
    "Ab hier finden Sie einige automatisierte Tests um Ihre Lösungen zu überprüfen. Um Ihre Lösung zu prüfen führen Sie bitte zuerst die Zelle mit Ihrer Lösung und danach die Zelle mit dem zugehörigen Test aus.\n"
   ]
  },
  {
   "cell_type": "code",
   "execution_count": 2,
   "metadata": {
    "nbgrader": {
     "grade": true,
     "grade_id": "cell-fe796c6b0d257efa",
     "locked": true,
     "points": 0,
     "schema_version": 1,
     "solution": false
    }
   },
   "outputs": [
    {
     "name": "stdout",
     "output_type": "stream",
     "text": [
      "Coupon Code: Winter19\n",
      "Coupon angewendet.\n"
     ]
    }
   ],
   "source": [
    "try:\n",
    "    validate_coupon()\n",
    "except NotImplementedError:\n",
    "    print(\"Bitte entfernen Sie das \\\"raise NotImplementedError()\\\"\")"
   ]
  },
  {
   "cell_type": "markdown",
   "metadata": {
    "nbgrader": {
     "grade": false,
     "grade_id": "cell-23e1e7faa78b99b9",
     "locked": true,
     "schema_version": 1,
     "solution": false
    }
   },
   "source": [
    "## Test 1 - Korrekte Abfrage\n",
    "Das Programm soll wie oben beschrieben funktionieren.\n",
    "\n",
    "__Hinweis__: Diese Tests sind sehr anfällig für kleinste Abweichungen. Achten Sie bitte darauf, dass Ihr Programm *exakt* so aussieht wie in der Aufgabenstellung als Beispiel dargestellt.  \n",
    "Achten Sie bitte auch darauf den Text \"Coupon Code: \" mittels input auszugeben (also `input(\"Coupon Code: \")`). Bitte verwenden Sie hier kein print()."
   ]
  },
  {
   "cell_type": "code",
   "execution_count": 26,
   "metadata": {
    "nbgrader": {
     "grade": true,
     "grade_id": "cell-b1f69e1f002fb70f",
     "locked": true,
     "points": 0,
     "schema_version": 1,
     "solution": false
    }
   },
   "outputs": [
    {
     "name": "stdout",
     "output_type": "stream",
     "text": [
      "Teste Winter19 als erste Eingabe\n",
      "Test 1 erfolgreich.\n",
      "Teste Winter19 als dritte Eingabe\n",
      "Test 2 erfolgreich.\n"
     ]
    }
   ],
   "source": [
    "from unittest import mock\n",
    "from nose.tools import assert_equal\n",
    "import unittest\n",
    "import io\n",
    "\n",
    "with mock.patch('builtins.input', side_effect=[\"Winter19\"]):\n",
    "    with mock.patch('sys.stdout', new=io.StringIO()) as fake_stdout:\n",
    "        validate_coupon()\n",
    "\n",
    "    print(\"Teste Winter19 als erste Eingabe\")\n",
    "    assert_equal(fake_stdout.getvalue(), 'Coupon angewendet.\\n', \"Auch wenn Winter19 die erste Eingabe ist, sollte das Programm schon beendet werden\")\n",
    "    print(\"Test 1 erfolgreich.\")\n",
    "    \n",
    "with mock.patch('builtins.input', side_effect=[\"a\", \"199\", \"Winter19\"]):\n",
    "    with mock.patch('sys.stdout', new=io.StringIO()) as fake_stdout:\n",
    "        validate_coupon()\n",
    "\n",
    "    print(\"Teste Winter19 als dritte Eingabe\")\n",
    "    assert_equal(fake_stdout.getvalue(), 'Coupon angewendet.\\n', \"Das Programm soll so lange eine Eingabe verlangen bis diese Winter19 ist.\")\n",
    "    print(\"Test 2 erfolgreich.\")\n"
   ]
  }
 ],
 "metadata": {
  "celltoolbar": "Create Assignment",
  "file_extension": ".py",
  "kernelspec": {
   "display_name": "Python 3",
   "language": "python",
   "name": "python3"
  },
  "language_info": {
   "codemirror_mode": {
    "name": "ipython",
    "version": 3
   },
   "file_extension": ".py",
   "mimetype": "text/x-python",
   "name": "python",
   "nbconvert_exporter": "python",
   "pygments_lexer": "ipython3",
   "version": "3.7.7"
  },
  "mimetype": "text/x-python",
  "name": "python",
  "npconvert_exporter": "python",
  "pycharm": {
   "stem_cell": {
    "cell_type": "raw",
    "source": [
     "<nav>\n",
     "    <a href=\"for_loop_exercises.ipynb\">&#9664; Übungsaufgaben zu Schleifen</a> |\n",
     "    <a href=\"group_5_level_1_75.ipynb\">Viel Unterstützung &#9685;</a> |\n",
     "    <a href=\"group_5_level_1.ipynb\">Keine Unterstützung &#9711;</a> |\n",
     "</nav>\n"
    ],
    "metadata": {
     "collapsed": false
    }
   }
  },
  "pygments_lexer": "ipython3",
  "version": 3
 },
 "nbformat": 4,
 "nbformat_minor": 2
}