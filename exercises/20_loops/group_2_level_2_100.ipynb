{
 "cells": [
  {
   "cell_type": "markdown",
   "metadata": {},
   "source": [
    "<nav>\n",
    "    <a href=\"for_loop_exercises.ipynb\">&#9664; Übungsaufgaben zu Schleifen</a> |\n",
    "    <a href=\"group_2_level_2_75.ipynb\">Viel Unterstützung &#9685;</a> |\n",
    "    <a href=\"group_2_level_2.ipynb\">Keine Unterstützung &#9711;</a> |\n",
    "</nav>"
   ]
  },
  {
   "cell_type": "markdown",
   "metadata": {
    "nbgrader": {
     "grade": false,
     "grade_id": "cell-6d12034a3e559b3a",
     "locked": true,
     "schema_version": 1,
     "solution": false
    }
   },
   "source": [
    "<div class=\"alert alert-warning\">\n",
    "<strong>Aufgabe 2</strong>\n",
    "\n",
    "Es soll ein Programm zur automatischen Analyse von Kontobewegungen implementiert werden.\n",
    "So soll aus einer großen Liste von Zugängen und Abgängen der maximale Betragswert erkannt werden.\n",
    "\n",
    "Implementieren Sie nun die Funktion `analyse_transfers`.\n",
    "Diese Funktion erhält als Parameter eine Liste `transfers`, welche in Form von Float-Werten die Zugänge und Abgänge auf das Konto angibt (in etwa `[+500.00, -200.00, +0.70, -0.65]`).\n",
    "Als Ergebnis soll der `höchste Transfer` als Float-Wert zurückgegeben werden (\"highest_transfer\").\n",
    "Hierbei sollen sowohl negative als auch positive Transfers berücksichtigt werden.\n",
    "</div>\n",
    "\n",
    "\n",
    "<div class=\"alert alert-block alert-info\"><strong>Hilfe</strong>\n",
    "    \n",
    "Sie können Ihre Lösung mit den automatisierten [Tests](#tests) weiter unten im Dokument überprüfen.<br>\n",
    "Eine Einführung in die `for`-Schleife in Python finden Sie [hier](../for_loop.ipynb).\n",
    "</div>"
   ]
  },
  {
   "cell_type": "code",
   "execution_count": null,
   "metadata": {
    "nbgrader": {
     "grade": false,
     "grade_id": "cell-29bb7125c4142d63",
     "locked": false,
     "schema_version": 1,
     "solution": true
    }
   },
   "outputs": [],
   "source": [
    "def analyse_transfers(transfers):\n",
    "    \n",
    "    ###BEGIN SOLUTION\n",
    "    # initialize max value\n",
    "    highest_transfer = 0\n",
    "    for transfer in transfers:\n",
    "        # compare squared values (alternatively use abs function)\n",
    "        #if abs(transfer) > abs(highest_transfer):\n",
    "        if transfer ** 2 > highest_transfer ** 2:\n",
    "            highest_transfer = transfer\n",
    "    \n",
    "    ###END SOLUTION\n",
    "    return highest_transfer\n",
    "\n",
    "print(\"Bei \\\"transfers = [20, 30, 40]\\\" liefert Ihre Funktion:\", analyse_transfers([20, 30, 40]))"
   ]
  },
  {
   "cell_type": "markdown",
   "metadata": {
    "nbgrader": {
     "grade": false,
     "grade_id": "cell-35178e3e0ffa08e1",
     "locked": true,
     "schema_version": 1,
     "solution": false
    }
   },
   "source": [
    "---\n",
    "<a id=\"tests\"></a>\n",
    "# Automatische Tests\n",
    "Ab hier finden Sie einige automatisierte Tests um Ihre Lösungen zu überprüfen. Um Ihre Lösung zu prüfen führen Sie bitte zuerst die Zelle mit Ihrer Lösung und danach die Zelle mit dem zugehörigen Test aus.\n"
   ]
  },
  {
   "cell_type": "code",
   "execution_count": null,
   "metadata": {
    "nbgrader": {
     "grade": true,
     "grade_id": "cell-f1d46b35aa7bdd29",
     "locked": true,
     "points": 0,
     "schema_version": 1,
     "solution": false
    }
   },
   "outputs": [],
   "source": [
    "try:\n",
    "    analyse_transfers([0, 0, 0, 0])\n",
    "except NotImplementedError:\n",
    "    print(\"Bitte entfernen Sie das \\\"raise NotImplementedError()\\\"\")"
   ]
  },
  {
   "cell_type": "markdown",
   "metadata": {
    "nbgrader": {
     "grade": false,
     "grade_id": "cell-492469b03d1de657",
     "locked": true,
     "schema_version": 1,
     "solution": false
    }
   },
   "source": [
    "## Test 1 - Korrekte Bestimmung der höchsten Bankbewegung\n",
    "Die höchste Bankbewegung (`highest_transfer`) soll für jede Liste korrekt bestimmt werden.  \n",
    "Hierbei gilt es insbesondere auch negative Bewegungen zu berücksichtigen."
   ]
  },
  {
   "cell_type": "code",
   "execution_count": null,
   "metadata": {
    "nbgrader": {
     "grade": true,
     "grade_id": "cell-0bfb883eacffd309",
     "locked": true,
     "points": 0,
     "schema_version": 1,
     "solution": false
    }
   },
   "outputs": [],
   "source": [
    "from nose.tools import assert_equal\n",
    "\n",
    "transfers = [+100.45, -26.89, -23.00, +210.00, +234.00]\n",
    "highest_transfer = analyse_transfers(transfers)\n",
    "try:\n",
    "    assert_equal(highest_transfer, 234)\n",
    "    print(\"Test 1 erfolgreich\")\n",
    "except AssertionError as e:\n",
    "    print(\"Das Ergebnis ist falsch\")\n",
    "    print(e)\n",
    "    \n",
    "\n",
    "transfers = [+200.00, -200.00, +200.00, -200.00]\n",
    "highest_transfer = analyse_transfers(transfers)\n",
    "try:\n",
    "    assert_equal(highest_transfer, 200)\n",
    "    print(\"Test 2 erfolgreich\")\n",
    "except AssertionError as e:\n",
    "    print(\"Das Ergebnis ist falsch\")\n",
    "    print(e)\n",
    "    \n",
    "\n",
    "transfers = [+15.00]\n",
    "highest_transfer = analyse_transfers(transfers)\n",
    "try:\n",
    "    assert_equal(highest_transfer, 15)\n",
    "    print(\"Test 3 erfolgreich\")\n",
    "except AssertionError as e:\n",
    "    print(\"Das Ergebnis ist falsch\")\n",
    "    print(e)\n",
    "    \n",
    "\n",
    "transfers = [+300.00, -500.00, -23.00, +210.00, +234.00]\n",
    "highest_transfer = analyse_transfers(transfers)\n",
    "try:\n",
    "    assert_equal(highest_transfer, -500)\n",
    "    print(\"Test 4 erfolgreich\")\n",
    "except AssertionError as e:\n",
    "    print(\"Das Ergebnis ist falsch, beachten Sie auch negative Buchungen\")\n",
    "    print(e)"
   ]
  }
 ],
 "metadata": {
  "celltoolbar": "Create Assignment",
  "file_extension": ".py",
  "kernelspec": {
   "display_name": "Python 3",
   "language": "python",
   "name": "python3"
  },
  "language_info": {
   "codemirror_mode": {
    "name": "ipython",
    "version": 3
   },
   "file_extension": ".py",
   "mimetype": "text/x-python",
   "name": "python",
   "nbconvert_exporter": "python",
   "pygments_lexer": "ipython3",
   "version": "3.7.7"
  },
  "mimetype": "text/x-python",
  "name": "python",
  "npconvert_exporter": "python",
  "pygments_lexer": "ipython3",
  "version": 3
 },
 "nbformat": 4,
 "nbformat_minor": 2
}