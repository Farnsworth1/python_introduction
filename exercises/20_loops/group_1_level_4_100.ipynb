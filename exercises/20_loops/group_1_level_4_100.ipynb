{
 "cells": [
  {
   "cell_type": "markdown",
   "metadata": {
    "nbgrader": {
     "grade": false,
     "grade_id": "cell-f9e8e59ce6c43821",
     "locked": true,
     "schema_version": 1,
     "solution": false
    }
   },
   "source": [
    "<nav>\n",
    "    <a href=\"for_loop_exercises.ipynb\">&#9664; Übungsaufgaben zu Schleifen</a> |\n",
    "    <a href=\"group_1_level_4_75.ipynb\">Viel Unterstützung &#9685;</a> |\n",
    "    <a href=\"group_1_level_4.ipynb\">Keine Unterstützung &#9711;</a> |\n",
    "</nav>\n",
    "\n",
    "<div class=\"alert alert-warning\">\n",
    "<strong>Aufgabe 4 - Aktien filtern</strong>\n",
    "\n",
    "Gegeben ist eine Liste mit Aktienkursen `shares`.\n",
    "Jedes Element dieser Liste ist jedoch selbst eine Liste.\n",
    "Jeweils dieser Listen enthalten drei Werte: Name der Aktie, die Veränderung zum Vortag und als dritten den Wert der Aktie.\n",
    "Also die Liste sieht beispielsweise so aus ['SAP', -0.3, 100.0]\n",
    "Nun wollen Sie die Aktien filtern, die gut im Wert gestiegenen sind, d.h. alle Aktienkurse mit einer Veränderung zum Vortag $\\geq$ 1.\n",
    "Erstellen Sie dazu eine neue Liste und fülle Sie diese mit allen Listen die das oben erwähnte Kriterium erfüllen.\n",
    "</div>\n",
    "\n",
    "<div class=\"alert alert-block alert-info\"><strong>Hilfe</strong>\n",
    "\n",
    "Sie können Ihre Lösung mit den automatisierten [Tests](#tests) weiter unten im Dokument überprüfen.<br>\n",
    "Eine Einführung in die `for`-Schleife in Python finden Sie [hier](../for_loop.ipynb).\n",
    "</div>"
   ]
  },
  {
   "cell_type": "code",
   "execution_count": 13,
   "metadata": {
    "nbgrader": {
     "grade": false,
     "grade_id": "cell-ae387673cf8e32fa",
     "locked": false,
     "schema_version": 1,
     "solution": true
    }
   },
   "outputs": [
    {
     "name": "stdout",
     "output_type": "stream",
     "text": [
      "Bei \"shares = ['SAP', -0.3, 100.0], ['MSFT', +1.5, 180.4]\" liefert Ihre Funktion: [['MSFT', 1.5, 180.4]]\n"
     ]
    }
   ],
   "source": [
    "def filter_shares(shares):\n",
    "    ###BEGIN SOLUTION\n",
    "    shares_to_sell = []\n",
    "    for share in shares:\n",
    "        if share[1] >= 1.0:\n",
    "            shares_to_sell.append(share)\n",
    "            \n",
    "    ###END SOLUTION\n",
    "    return shares_to_sell\n",
    "\n",
    "print(\"Bei \\\"shares = ['SAP', -0.3, 100.0], ['MSFT', +1.5, 180.4]\\\" liefert Ihre Funktion:\", filter_shares([['SAP', -0.3, 100.0], ['MSFT', +1.5, 180.4]]))"
   ]
  },
  {
   "cell_type": "markdown",
   "metadata": {
    "nbgrader": {
     "grade": false,
     "grade_id": "cell-0cc64ffadd156333",
     "locked": true,
     "schema_version": 1,
     "solution": false
    }
   },
   "source": [
    "---\n",
    "<a id=\"tests\"></a>\n",
    "# Automatische Tests\n",
    "Ab hier finden Sie einige automatisierte Tests um Ihre Lösungen zu überprüfen. Um Ihre Lösung zu prüfen führen Sie bitte zuerst die Zelle mit Ihrer Lösung und danach die Zelle mit dem zugehörigen Test aus.\n",
    "\n",
    "- Test 1 - Korrekte Filterung der meisten Aktien\n",
    "> Die von der Funktion `filter_shares` zurückgegebene Liste `shares_to_sell` muss die korrekten Aktienkurse enthalten.\n",
    "- Test 2 - Einbeziehung der Aktien mit Veränderungen genau gleich 1\n",
    "> Die von der Funktion `filter_shares` zurückgegebene Liste `shares_to_sell` soll nicht nur alle Aktienkurse mit einer Veränderung zum Vortag größer als 1 speichern sondern auch Aktienkurse bei denen die Veränderung genau gleich 1 ist."
   ]
  },
  {
   "cell_type": "code",
   "execution_count": null,
   "metadata": {
    "pycharm": {
     "name": "#%%\n"
    }
   },
   "outputs": [],
   "source": [
    "import unittest\n",
    "class TestNotebookClass(unittest.TestCase):\n",
    "    def test1(self):\n",
    "        \"\"\"Test1: Sind die zurückgegebenen Aktienkurse korrekt?\"\"\"\n",
    "        shares = [['SAP', -0.3, 100.0], ['MSFT', +1.5, 180.4], ['APPL', +0.5, 480.4], ['AMZN', +1.23, 450.8], ['MCD', -1.2, 350]]\n",
    "        expected_output = [['MSFT', 1.5, 180.4], ['AMZN', 1.23, 450.8]]\n",
    "\n",
    "        self.assertEqual(filter_shares(shares), expected_output)\n",
    "\n",
    "    def test2(self):\n",
    "        \"\"\"Test2: Die Liste bezieht keine Aktien ein, bei denen die Veränderung genau gleich 1 ist\"\"\"\n",
    "        shares = [['MSFT', +1, 180.4]]\n",
    "        expected_output = [['MSFT', +1, 180.4]]\n",
    "        self.assertEqual(filter_shares(shares), expected_output)\n",
    "\n",
    "import sys\n",
    "suite = unittest.TestLoader().loadTestsFromTestCase(TestNotebookClass)\n",
    "unittest.TextTestRunner(verbosity=4,stream=sys.stderr).run(suite)"
   ]
  }
 ],
 "metadata": {
  "celltoolbar": "Create Assignment",
  "kernelspec": {
   "display_name": "Python 3",
   "language": "python",
   "name": "python3"
  },
  "language_info": {
   "codemirror_mode": {
    "name": "ipython",
    "version": 3
   },
   "file_extension": ".py",
   "mimetype": "text/x-python",
   "name": "python",
   "nbconvert_exporter": "python",
   "pygments_lexer": "ipython3",
   "version": "3.7.7"
  }
 },
 "nbformat": 4,
 "nbformat_minor": 2
}
