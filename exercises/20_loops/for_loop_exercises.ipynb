{
 "cells": [
  {
   "cell_type": "markdown",
   "metadata": {},
   "source": [
    "# Übungsaufgaben zu Schleifen\n",
    "In folgender Tabelle finden Sie eine Reihe von Übungsaufgaben zum Themenblock Schleifen in Python. Starten Sie mit einer der Aufgabe in der Stufe 1....\n",
    "\n",
    "## Hilfe\n",
    "Eine detaillierte Beschreibung der `while`-Schleife finden Sie [hier](./for_loop.ipynb).<br>\n",
    "Eine detaillierte Beschreibung der `for`-Schleife finden Sie [hier](././for_loop.ipynb).\n",
    "\n",
    "## Erklärung zu den Leveln, Gruppen und Stufen\n",
    "Wie schon angedeutet, werden die Aufgaben von Stufe zu Stufe schwieriger. Die Level sind wie folgt definiert:\n",
    "Die ersten beiden Level sind zum aufwärmen, danach wird es etwas schwieriger.\n",
    "\n",
    " - Level 1: Listenverständnisse\n",
    " - Level 2: Verschachtelte Listen\n",
    " - Level 3: Formatierte Ausgabe\n",
    " - Level 4: Mathematische Formeln\n",
    " - Level 5: Komplexe Datenstrukturen\n",
    "\n",
    "Um die Übungen abwechslungsreicher zu gestalten, gibt es zu jedem Level mehrere unterschiedliche Aufgaben.\n",
    "Jede Aufgabe wird in unterschiedlichen (Schwierigkeits-)Stufen angeboten. Die Unterstützung reicht von:\n",
    " - Keine Unterstützung. Die Aufgabe wird durch Kommentare oder Zellen vorstrukturiert, es ist aber kein Programmcode gegeben (0%, 🥇)\n",
    " - es wird weniger oder mehr Programmcode zur Verfügung gestellt, der Rest muss \"nur\" ergänzt werden (25%, 🥈) bzw. (75%, 🥉)\n",
    "\n",
    "Sie brauchen nicht alle Aufgaben zu lösen. Versuchen Sie zuerst eine 0%-Aufgabe zu lösen.\n",
    "\n",
    " - Wenn das ohne Schwierigkeiten geht, gehen Sie zum nächsten Level.\n",
    " - Wenn es nicht direkt klappt, dann wechseln Sie zur gleichen Aufgabe mit entsprechend mehr Hilfe (25%, 50%, ...) an. Versuchen Sie anschließend auf dem _gleichen_ Level eine andere Aufgabe.\n",
    " - Wenn Sie die Ansätze gar nicht verstehen, dann nutzen Sie die grundsätzlichen Erklärungen zum Thema (s.o.). Versuchen Sie anschließend erneut, die gleiche Aufgabe zu lösen.\n",
    "\n",
    "Ziel ist es, mindestens eine Aufgabe der höchsten Level ohne Hilfe (also Stufe 0%) zu schaffen.\n",
    "Es gibt nicht auf jedem Level die gleiche Anzahl an Aufgaben. Es gibt nicht für jede Aufgabe alle Stufen!\n"
   ]
  },
  {
   "cell_type": "markdown",
   "metadata": {},
   "source": [
    "| Übungsaufgaben | Stufe 1 | Stufe 2 | Stufe 3 | Stufe 4 | Stufe 5 |\n",
    " |:----------|:--------|:--------|:--------|:--------|:--------|\n",
    " | Gruppe 1 | 🥉 [viel Unterstützung](./group_1_level_1_75.ipynb) <br>🥈 [wenig Unterstützung](./group_1_level_1_25.ipynb) <br> 🥇 [keine Unterstützung](./group_1_level_1.ipynb) <br> &#9989; [Worked-out example](./group_1_level_1_100.ipynb) | 🥉 [viel Unterstützung](./group_1_level_2_75.ipynb) <br>🥈 [wenig Unterstützung](./group_1_level_2_25.ipynb) <br>🥇 [keine Unterstützung](./group_1_level_2.ipynb) <br> &#9989; [Worked-out example](./group_1_level_2_100.ipynb) | 🥉 [viel Unterstützung](./group_1_level_3_75.ipynb) <br>🥈 [wenig Unterstützung](./group_1_level_3_25.ipynb) <br>🥇 [keine Unterstützung](./group_1_level_3.ipynb) | 🥉 [viel Unterstützung](./group_1_level_4_75.ipynb) <br>🥈 [wenig Unterstützung](./group_1_level_4_25.ipynb) <br>🥇 [keine Unterstützung](./group_1_level_4.ipynb)  | 🥉 [viel Unterstützung](./group_1_level_5_75.ipynb) <br>🥈 [wenig Unterstützung](./group_1_level_5_25.ipynb) <br>🥇 [keine Unterstützung](./group_1_level_5.ipynb)  |\n",
    " | Gruppe 2 | 🥉 [viel Unterstützung](./group_2_level_1_75.ipynb) <br>🥈 [wenig Unterstützung](./group_2_level_1_25.ipynb) <br> 🥇 [keine Unterstützung](./group_2_level_1.ipynb) | 🥉 [viel Unterstützung](./group_2_level_2_75.ipynb) <br>🥈 [wenig Unterstützung](./group_2_level_2_25.ipynb) <br>🥇 [keine Unterstützung](./group_2_level_2.ipynb) | 🥉 [viel Unterstützung](./group_2_level_3_75.ipynb) <br>🥈 [wenig Unterstützung](./group_2_level_3_25.ipynb) <br>🥇 [keine Unterstützung](./group_2_level_3.ipynb) | 🥉 [viel Unterstützung](./group_2_level_4_75.ipynb) <br>🥈 [wenig Unterstützung](./group_2_level_4_25.ipynb) <br>🥇 [keine Unterstützung](./group_2_level_4.ipynb)  | 🥉 [viel Unterstützung](./group_2_level_5_75.ipynb) <br>🥈 [wenig Unterstützung](./group_2_level_5_25.ipynb) <br>🥇 [keine Unterstützung](./group_2_level_5.ipynb)  |\n",
    "  | Gruppe 3 | 🥉 [viel Unterstützung](./group_3_level_1_75.ipynb) <br>🥈 [wenig Unterstützung](./group_3_level_1_25.ipynb) <br> 🥇 [keine Unterstützung](./group_3_level_1.ipynb) | 🥉 [viel Unterstützung](./group_3_level_2_75.ipynb) <br>🥈 [wenig Unterstützung](./group_3_level_2_25.ipynb) <br>🥇 [keine Unterstützung](./group_3_level_2.ipynb) | 🥉 [viel Unterstützung](./group_3_level_3_75.ipynb) <br>🥈 [wenig Unterstützung](./group_3_level_3_25.ipynb) <br>🥇 [keine Unterstützung](./group_3_level_3.ipynb) | 🥉 [viel Unterstützung](./group_3_level_4_75.ipynb) <br>🥈 [wenig Unterstützung](./group_3_level_4_25.ipynb) <br>🥇 [keine Unterstützung](./group_3_level_4.ipynb)  | 🥉 [viel Unterstützung](./group_3_level_5_75.ipynb) <br>🥈 [wenig Unterstützung](./group_3_level_5_25.ipynb) <br>🥇 [keine Unterstützung](./group_3_level_5.ipynb)  |\n",
    "  | Gruppe 4 | 🥉 [viel Unterstützung](./group_4_level_1_75.ipynb) <br>🥈 [wenig Unterstützung](./group_4_level_1_25.ipynb) <br> 🥇 [keine Unterstützung](./group_4_level_1.ipynb) | 🥉 [viel Unterstützung](./group_4_level_2_75.ipynb) <br>🥈 [wenig Unterstützung](./group_4_level_2_25.ipynb) <br>🥇 [keine Unterstützung](./group_4_level_2.ipynb) | 🥉 [viel Unterstützung](./group_4_level_3_75.ipynb) <br>🥈 [wenig Unterstützung](./group_4_level_3_25.ipynb) <br>🥇 [keine Unterstützung](./group_4_level_3.ipynb) | 🥉 [viel Unterstützung](./group_4_level_4_75.ipynb) <br>🥈 [wenig Unterstützung](./group_4_level_4_25.ipynb) <br>🥇 [keine Unterstützung](./group_4_level_4.ipynb)  | 🥉 [viel Unterstützung](./group_4_level_5_75.ipynb) <br>🥈 [wenig Unterstützung](./group_4_level_5_25.ipynb) <br>🥇 [keine Unterstützung](./group_4_level_5.ipynb)  |\n",
    "  | Gruppe 5 | 🥉 [viel Unterstützung](./group_5_level_1_75.ipynb) <br>🥈 [wenig Unterstützung](./group_5_level_1_25.ipynb) <br> 🥇 [keine Unterstützung](./group_5_level_1.ipynb) | 🥉 [viel Unterstützung](./group_5_level_2_75.ipynb) <br>🥈 [wenig Unterstützung](./group_5_level_2_25.ipynb) <br>🥇 [keine Unterstützung](./group_5_level_2.ipynb) | 🥉 [viel Unterstützung](./group_5_level_3_75.ipynb) <br>🥈 [wenig Unterstützung](./group_5_level_3_25.ipynb) <br>🥇 [keine Unterstützung](./group_5_level_3.ipynb) | 🥉 [viel Unterstützung](./group_5_level_4_75.ipynb) <br>🥈 [wenig Unterstützung](./group_5_level_4_25.ipynb) <br>🥇 [keine Unterstützung](./group_5_level_4.ipynb)  | 🥉 [viel Unterstützung](./group_5_level_5_75.ipynb) <br>🥈 [wenig Unterstützung](./group_5_level_5_25.ipynb) <br>🥇 [keine Unterstützung](./group_5_level_5.ipynb)  |\n",
    "\n",
    "\n"
   ]
  }
 ],
 "metadata": {
  "file_extension": ".py",
  "kernelspec": {
   "display_name": "Python 3",
   "language": "python",
   "name": "python3"
  },
  "language_info": {
   "codemirror_mode": {
    "name": "ipython",
    "version": 3
   },
   "file_extension": ".py",
   "mimetype": "text/x-python",
   "name": "python",
   "nbconvert_exporter": "python",
   "pygments_lexer": "ipython3",
   "version": "3.7.7"
  },
  "mimetype": "text/x-python",
  "name": "python",
  "npconvert_exporter": "python",
  "pygments_lexer": "ipython3",
  "version": 3
 },
 "nbformat": 4,
 "nbformat_minor": 2
}