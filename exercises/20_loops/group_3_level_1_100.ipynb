{
 "cells": [
  {
   "cell_type": "markdown",
   "metadata": {
    "nbgrader": {
     "grade": false,
     "grade_id": "cell-ff6d2b5d7e983632",
     "locked": true,
     "schema_version": 1,
     "solution": false
    }
   },
   "source": [
    "<nav>\n",
    "    <a href=\"for_loop_exercises.ipynb\">&#9664; Übungsaufgaben zu Schleifen</a> |\n",
    "    <a href=\"group_3_level_2_75.ipynb\">Viel Unterstützung &#9685;</a> |\n",
    "    <a href=\"group_3_level_2.ipynb\">Keine Unterstützung &#9711;</a> |\n",
    "</nav>"
   ]
  },
  {
   "cell_type": "markdown",
   "metadata": {},
   "source": [
    "<div class=\"alert alert-warning\">\n",
    "<strong>Aufgabe 1</strong>\n",
    "\n",
    "Im Rahmen der Materialverwaltung soll ein Programm zur automatischen Berechnung eines Materialbestandes, anhand von Eingängen und Abgängen eines Materials in einer Lagerhalle, implementiert werden.  \n",
    "\n",
    "Implementieren Sie nun die Funktion `calculate_stock`. Diese Funktion erhält als Parameter eine Liste `incoming_outgoing`, welche in Form von Integer-Werten die Materialeingänge und Abgänge in die Lagerhalle angibt (in etwa `[+500, -200, +70, -65]`).  \n",
    "Als Ergebnis soll der Materialbestand in Form eines Integer-Wertes zurückgegeben werden (\"stock\").\n",
    "\n",
    "</div>\n",
    "\n",
    "<div class=\"alert alert-block alert-info\"><strong>Hilfe</strong>\n",
    "\n",
    "Sie können Ihre Lösung mit den automatisierten [Tests](#tests) weiter unten im Dokument überprüfen.<br>\n",
    "Eine Einführung in die `for`-Schleife in Python finden Sie [hier](../for_loop.ipynb).\n",
    "</div>"
   ]
  },
  {
   "cell_type": "code",
   "execution_count": 5,
   "metadata": {
    "nbgrader": {
     "grade": false,
     "grade_id": "cell-080ae4f875168748",
     "locked": false,
     "schema_version": 1,
     "solution": true
    }
   },
   "outputs": [
    {
     "name": "stdout",
     "output_type": "stream",
     "text": [
      "Bei \"incoming_outgoing = [20, 30, 40]\" liefert Ihre Funktion: 90\n"
     ]
    }
   ],
   "source": [
    "def calculate_stock(incoming_outgoing):\n",
    "    \n",
    "    ###BEGIN SOLUTION\n",
    "    stock = 0\n",
    "    for entry in incoming_outgoing:\n",
    "        stock += entry\n",
    "    \n",
    "    ###END SOLUTION\n",
    "    return stock\n",
    "\n",
    "print(\"Bei \\\"incoming_outgoing = [20, 30, 40]\\\" liefert Ihre Funktion:\", calculate_stock([20, 30, 40]))"
   ]
  },
  {
   "cell_type": "markdown",
   "metadata": {
    "nbgrader": {
     "grade": false,
     "grade_id": "cell-d568ff7c9a5f6bae",
     "locked": true,
     "schema_version": 1,
     "solution": false
    }
   },
   "source": [
    "---\n",
    "<a id=\"tests\"></a>\n",
    "# Automatische Tests\n",
    "Ab hier finden Sie einige automatisierte Tests um Ihre Lösungen zu überprüfen. Um Ihre Lösung zu prüfen führen Sie bitte zuerst die Zelle mit Ihrer Lösung und danach die Zelle mit dem zugehörigen Test aus.\n"
   ]
  },
  {
   "cell_type": "code",
   "execution_count": 3,
   "metadata": {
    "nbgrader": {
     "grade": true,
     "grade_id": "cell-9563226530e72506",
     "locked": true,
     "points": 0,
     "schema_version": 1,
     "solution": false
    }
   },
   "outputs": [],
   "source": [
    "try:\n",
    "    calculate_stock([0, 0, 0, 0])\n",
    "except NotImplementedError:\n",
    "    print(\"Bitte entfernen Sie das \\\"raise NotImplementedError()\\\"\")"
   ]
  },
  {
   "cell_type": "markdown",
   "metadata": {
    "nbgrader": {
     "grade": false,
     "grade_id": "cell-b340834d8726e5d0",
     "locked": true,
     "schema_version": 1,
     "solution": false
    }
   },
   "source": [
    "## Test 1 - Korrekte Berechnung\n",
    "Der Materialbestand (`stock`) soll für jede Liste korrekt berechnet werden."
   ]
  },
  {
   "cell_type": "code",
   "execution_count": 4,
   "metadata": {
    "nbgrader": {
     "grade": true,
     "grade_id": "cell-e412b7ff90a78f87",
     "locked": true,
     "points": 0,
     "schema_version": 1,
     "solution": false
    }
   },
   "outputs": [
    {
     "name": "stdout",
     "output_type": "stream",
     "text": [
      "Test 1 erfolgreich\n",
      "Test 2 erfolgreich\n",
      "Test 3 erfolgreich\n"
     ]
    }
   ],
   "source": [
    "from nose.tools import assert_equal\n",
    "\n",
    "incoming_outgoing = [+519, -250, -19, -12, +234]\n",
    "stock = calculate_stock(incoming_outgoing)\n",
    "try:\n",
    "    assert_equal(stock, 472)\n",
    "    print(\"Test 1 erfolgreich\")\n",
    "except AssertionError as e:\n",
    "    print(\"Das Ergebnis ist falsch\")\n",
    "    print(e)\n",
    "    \n",
    "\n",
    "incoming_outgoing = [+99999999, -1234567, -9876543]\n",
    "stock = calculate_stock(incoming_outgoing)\n",
    "try:\n",
    "    assert_equal(stock, 88888889)\n",
    "    print(\"Test 2 erfolgreich\")\n",
    "except AssertionError as e:\n",
    "    print(\"Das Ergebnis ist falsch\")\n",
    "    print(e)\n",
    "    \n",
    "\n",
    "incoming_outgoing = [-12, +20]\n",
    "stock = calculate_stock(incoming_outgoing)\n",
    "try:\n",
    "    assert_equal(stock, 8)\n",
    "    print(\"Test 3 erfolgreich\")\n",
    "except AssertionError as e:\n",
    "    print(\"Das Ergebnis ist falsch\")\n",
    "    print(e)"
   ]
  }
 ],
 "metadata": {
  "celltoolbar": "Create Assignment",
  "file_extension": ".py",
  "kernelspec": {
   "display_name": "Python 3",
   "language": "python",
   "name": "python3"
  },
  "language_info": {
   "codemirror_mode": {
    "name": "ipython",
    "version": 3
   },
   "file_extension": ".py",
   "mimetype": "text/x-python",
   "name": "python",
   "nbconvert_exporter": "python",
   "pygments_lexer": "ipython3",
   "version": "3.7.7"
  },
  "mimetype": "text/x-python",
  "name": "python",
  "npconvert_exporter": "python",
  "pygments_lexer": "ipython3",
  "version": 3
 },
 "nbformat": 4,
 "nbformat_minor": 2
}