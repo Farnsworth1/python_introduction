{
 "cells": [
  {
   "cell_type": "markdown",
   "metadata": {},
   "source": [
    "  # How-Tos für Vergleichsoperatoren und bedingte Anweisungen\n",
    "  ## Vergleichsoperatoren\n",
    "  * [List der Vergleichsoperatoren](#List-der-Vergleichsoperatoren)"
   ]
  },
  {
   "cell_type": "markdown",
   "metadata": {},
   "source": [
    "  ## Bedingte Anweisungen\n",
    "  * [Einfachses if](#Einfaches-if)\n",
    "  * [if-else](#if-else)\n",
    "  * [if-elif-else](#if-elif-else)\n",
    "  * [Komplexe Bedingungen](Komplexe-Bedingungen)"
   ]
  },
  {
   "cell_type": "markdown",
   "metadata": {},
   "source": [
    "  ## List der Vergleichsoperatoren\n",
    "\n",
    "  | Operator | Erklärung                    | Beispiel True        | Beispiel False       |\n",
    "  |----------|------------------------------|----------------------|----------------------|\n",
    "  | ==       | Prüfung auf Gleichheit       | 2 == 2               | 2 == 3               |\n",
    "  | !=       | Prüfung auf Ungleichheit     | 2 != 3               | 2 != 2               |\n",
    "  | <        | Prüfung auf \"Kleiner\"        | 2 < 3                | 3 < 2                |\n",
    "  | >        | Prüfung auf \"Größer\"         | 3 > 2                | 2 > 3                |\n",
    "  | <=       | Prüfung auf \"Kleiner gleich\" | 3 <= 3               | 3 <= 2               |\n",
    "  | >=       | Prüfung auf \"Größer gleich\"  | 2 >= 2               | 2 >= 3               |"
   ]
  },
  {
   "cell_type": "code",
   "execution_count": null,
   "metadata": {},
   "outputs": [],
   "source": [
    "print(\"2 == 2\", 2 == 2)\n",
    "print(\"2 == 3\", 2 == 3)\n",
    "print(\"2 != 3\", 2 != 3 )\n",
    "print(\"3 < 2\", 3 < 2)\n",
    "print(\"3 > 2\", 3 > 2)\n"
   ]
  },
  {
   "cell_type": "markdown",
   "metadata": {},
   "source": [
    "  ## Einfaches if"
   ]
  },
  {
   "cell_type": "code",
   "execution_count": null,
   "metadata": {},
   "outputs": [],
   "source": [
    "zahl = 200\n",
    "if zahl > 100:\n",
    "    print(zahl, \"ist größer als 100!\")\n"
   ]
  },
  {
   "cell_type": "markdown",
   "metadata": {},
   "source": [
    " ## if-else"
   ]
  },
  {
   "cell_type": "code",
   "execution_count": null,
   "metadata": {},
   "outputs": [],
   "source": [
    "zahl = 42\n",
    "if zahl > 100:\n",
    "    print(zahl, \"ist größer als 100!\")\n",
    "else: \n",
    "    print(zahl, \"ist kleiner oder gleich 100!\")\n"
   ]
  },
  {
   "cell_type": "markdown",
   "metadata": {},
   "source": [
    " ## if-elif-else"
   ]
  },
  {
   "cell_type": "code",
   "execution_count": null,
   "metadata": {},
   "outputs": [],
   "source": [
    "temperatur = 15\n",
    "\n",
    "if temperatur > 20:\n",
    "    print(\"warm\")\n",
    "elif temperatur > 30:\n",
    "    print(\"heiss\")\n",
    "else:\n",
    "    print(\"kalt\")\n"
   ]
  },
  {
   "cell_type": "markdown",
   "metadata": {},
   "source": [
    " ## Komplexe Bedingungen"
   ]
  },
  {
   "cell_type": "code",
   "execution_count": null,
   "metadata": {},
   "outputs": [],
   "source": [
    "zahl = 15\n",
    "if (zahl % 3 == 0) and (zahl % 5 == 0):\n",
    "    print(zahl, \"ist durch 3 und 5 teilbar.\")"
   ]
  }
 ],
 "metadata": {
  "file_extension": ".py",
  "kernelspec": {
   "display_name": "Python 3",
   "language": "python",
   "name": "python3"
  },
  "language_info": {
   "codemirror_mode": {
    "name": "ipython",
    "version": 3
   },
   "file_extension": ".py",
   "mimetype": "text/x-python",
   "name": "python",
   "nbconvert_exporter": "python",
   "pygments_lexer": "ipython3",
   "version": "3.7.4"
  },
  "mimetype": "text/x-python",
  "name": "python",
  "npconvert_exporter": "python",
  "pygments_lexer": "ipython3",
  "version": 3
 },
 "nbformat": 4,
 "nbformat_minor": 2
}
