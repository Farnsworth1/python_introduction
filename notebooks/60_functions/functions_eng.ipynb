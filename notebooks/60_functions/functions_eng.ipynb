{
 "cells": [
  {
   "cell_type": "markdown",
   "metadata": {},
   "source": [
    " # Funktionen\n",
    " ## Voraussetzungen\n",
    " Diese Einheit setzt voraus, dass Sie folgende Inhalte kennen:\n",
    " - [Variables](../20_variables_and_datatypes/10_variables_eng.ipynb)\n",
    " - [In- and Output](../20_variables_and_datatypes/20_in_and_output_eng.ipynb)\n",
    " - [Primitive Datentypes](../20_variables_and_datatypes/30_datatypes_eng.ipynb)\n",
    " - [Conditionals](../30_conditionals/conditionals_eng.ipynb)\n",
    " - [Complex Data Types](../40_complex_data_types/lists_eng.ipynb)\n",
    " - [Loops](../50_loops/for_loop_sja_eng.ipynb)"
   ]
  },
  {
   "cell_type": "markdown",
   "metadata": {},
   "source": [
    "## Motivation\n",
    "One of the basic concepts of mathematics is that of [function](https://de.wikipedia.org/wiki/Function_ (mathematics)).\n",
    "A function $ f $ assigns exactly one element $ y $ to a target set $ Z $ to each element $ x $ of a set $ D $.\n",
    "\n",
    "Examples:\n",
    "- $ f (x) = x ^ 2  \\text{ for } x \\in \\mathbb{N} $\n",
    "- $ s (x, y) = x + y $ for $ x \\in \\mathbb{R} $\n",
    "\n",
    "A function is therefore clearly defined by its parameters and the associated mapping rule(s)."
   ]
  },
  {
   "cell_type": "markdown",
   "metadata": {},
   "source": [
    "## Functions in programming\n",
    "A function in programming is structured similarly to a function in mathematics.\n",
    "A function in programming consists of a series of 'parameters' and a set of instructions.\n",
    "These then make it possible to call those instructions numerous times at different points in a program without having to copy the instructions.\n",
    "Functions enable you therefor to:\n",
    "- structure programs\n",
    "- modularize programs."
   ]
  },
  {
   "cell_type": "markdown",
   "metadata": {},
   "source": [
    "## functions in Python\n",
    "We have already learned some `functions` from the Python standard library.\n",
    "For example, we already used the function `print()`(https://docs.python.org/3/library/functions.html#print) or the\n",
    "function `int()` (https://docs.python.org/3/library/functions.html#int).\n",
    "\n",
    "Of course, as in other programming languages, it is also possible to write your functions in Python.\n",
    "The following simple function `double()` doubles each passed value."
   ]
  },
  {
   "cell_type": "code",
   "execution_count": 11,
   "metadata": {},
   "outputs": [],
   "source": [
    "def double(x):\n",
    "    \"\"\"\n",
    "    Doubles the value x.\n",
    "    \"\"\"\n",
    "    return x * 2\n"
   ]
  },
  {
   "cell_type": "markdown",
   "metadata": {},
   "source": [
    "This function can now be called as shown in the cell below."
   ]
  },
  {
   "cell_type": "code",
   "execution_count": 12,
   "metadata": {},
   "outputs": [
    {
     "name": "stdout",
     "output_type": "stream",
     "text": "42\nHalloHallo\n"
    }
   ],
   "source": [
    "d = double(21)\n",
    "print(d)\n",
    "\n",
    "print(double(\"Hello\"))\n"
   ]
  },
  {
   "cell_type": "markdown",
   "metadata": {},
   "source": [
    "Functions in Python are structured as shown in the following excerpt:\n",
    "```python\n",
    "def function_name(parameter_list):\n",
    "    command(s)\n",
    "    return output_value(s)\n",
    "```\n",
    "A function in Python consists of the following components:\n",
    "- The keyword `def` followed by a *function name*. The function name can be used to call the function.\n",
    "- An optional *parameter list*. The parameter list can, therefore, be empty or contain several parameters.\n",
    "Several parameters are separated by commas.\n",
    "- An optional *docstring*. This can be used to store documentation for the function.\n",
    "- The functional body. This consists of the instructions and the return value.\n",
    "  - The *instructions* that form the functional body are indented. A function must contain at least one instruction.\n",
    "  - The *return value* of the function follows the keyword `return`. The return value is optional.\n",
    "\n",
    "The individual components are explained in detail in the following sections.\n",
    "First, however, it is explained how a function is called."
   ]
  },
  {
   "cell_type": "markdown",
   "metadata": {},
   "source": [
    "### function Calls\n",
    "In the cell below is a Python program that consists of several parts.\n",
    "A function `say_hello()` is defined first. This is then repeated several times with various parameters."
   ]
  },
  {
   "cell_type": "code",
   "execution_count": 13,
   "metadata": {},
   "outputs": [
    {
     "name": "stdout",
     "output_type": "stream",
     "text": "Hello Informationstechnik 1\nHello Christian\n"
    }
   ],
   "source": [
    "def greet(name):\n",
    "    return name + \" I am your father\"\n",
    "\n",
    "n = \"Information technology 1\"\n",
    "greeting = greet(n)\n",
    "print(greeting)\n",
    "\n",
    "print(greet(\"Darth Vader\"))\n"
   ]
  },
  {
   "cell_type": "markdown",
   "metadata": {},
   "source": [
    "### function Calls\n",
    "In the cell below is a Python program that consists of several parts.\n",
    "A function `say_hello()` is defined first. This is then repeated several times with various parameters.\n",
    "\n",
    "If this Python program is executed, the function `say_hello()` is defined first. This definition has no output.\n",
    "Then the function `say_hello()` is called twice with different parameters.\n",
    "The result of the function call is displayed with `print()` (and `print()` is in itself a function call).\n",
    "\n",
    "The execution of the program is shown graphically in the figure below.\n",
    "\n",
    "![function_invocation.png](./img/function_invocation_eng.png)\n",
    "\n",
    "\n",
    "First, the variable `n` is set to the value`\"Information technology 1\"`.\n",
    "Then the function `greet(n)` is called and the variable `n` is passed as a parameter.\n",
    "By calling the function, the parameter `name` is assigned the value passed in as `n` (i.e. \"Information Technology 1 '').\n",
    "The return value of the function is `\"Informationstechnik 1 I am your father\"`.\n",
    "This is assigned to the variable `greeting`.\n",
    "Finally, the value of the variable `greeting` is displayed by calling the function` print()`.\n",
    "In the next step the function `greet()` is called again.\n",
    "With the second call, the character string \"Darth Vader\" is now passed as a parameter.\n",
    "The return value of the function is, therefore `\" Darth Vader I am your Father\"`.\n",
    "This is passed to the `print()` function and is displayed directly.\n",
    "The return value is hence not assigned to any variables on the second call."
   ]
  },
  {
   "cell_type": "markdown",
   "metadata": {},
   "source": [
    " ### Parameter\n",
    " Eine Funktion besitzt eine optionale Parameterliste. Das heißt, dass eine Funktion:\n",
    "\n",
    " - keinen Parameter\n",
    " - einen Parameter\n",
    " - mehrere Parameter\n",
    " \n",
    "besitzen kann. Folgende Zelle enthält je ein Beispiel einer Funktion mit keinem und mehreren Paramtern."
   ]
  },
  {
   "cell_type": "code",
   "execution_count": 14,
   "metadata": {},
   "outputs": [
    {
     "name": "stdout",
     "output_type": "stream",
     "text": "Was ist die Antwort auf die Frage nach dem Leben, dem Universum und dem ganzen Rest? 42\nWas ist die Summe von 39 und 3? 42\n"
    }
   ],
   "source": [
    "def the_answer_to_everything():\n",
    "    return 42\n",
    "\n",
    "print(\"Was ist die Antwort auf die Frage nach dem Leben, dem Universum und dem ganzen Rest?\", the_answer_to_everything())  \n",
    "\n",
    "def sum(a, b):\n",
    "    return a + b\n",
    "    \n",
    "print(\"Was ist die Summe von 39 und 3?\", sum(39,3))\n"
   ]
  },
  {
   "cell_type": "markdown",
   "metadata": {},
   "source": [
    "### Aufgabe 1\n",
    "Nun sind Sie an der Reihe. Schreiben Sie eine Python-`Funktion`, welche prüft ob eine übergebene Zeichenkette ein Palindrom ist. Beispiele für Palindrome sind Anna, Otto, Lagerregal oder 24742. Also Zeichenketten, welche Rückwärts gelesen das gleiche sind wie Vorwärts gelesen.\n",
    "\n",
    "Der Rückgabewert soll hier einfach True oder False sein, je nachdem ob die übergebene Zeichenkette ein Palindrom ist oder nicht.\n",
    "\n",
    "Einen automatisierten [Test](#Tests-zur-Aufgabe-1) für Ihre Lösung finden Sie weiter untern im Dokument.\n",
    "Damit dieser funktionieren kann, nennen Sie Ihre Funktion unbedingt `palindrome`."
   ]
  },
  {
   "cell_type": "code",
   "execution_count": 15,
   "metadata": {},
   "outputs": [],
   "source": [
    "###BEGIN SOLUTION\n",
    "\n",
    "def palindrome(sentence):\n",
    "    reverse = \"\"\n",
    "    for letter in sentence:\n",
    "        reverse = letter + reverse\n",
    "    \n",
    "    if reverse.lower() == sentence.lower():\n",
    "        return True\n",
    "    else:\n",
    "        return False\n",
    "    \n",
    "###END SOLUTION\n"
   ]
  },
  {
   "cell_type": "markdown",
   "metadata": {},
   "source": [
    " ### Standardwerte von Parametern\n",
    " Bei der Definition von Funktionen können Standardwerte für Parameter festgelegt werden.\n",
    " Diese Standardwerte werden verwendet wenn für einen Parameter beim Funktionsaufruf kein Wert übergeben wird.\n",
    "\n",
    " In folgendem Beispiel sehen Sie eine Funktion zur Multiplikation einer Zahl mit einem bestimmten Faktor.\n",
    " Der Parameter `factor` wird auf den Standardwert `2` gesetzt.\n",
    " Die Funktion kann nun mit oder ohen den Paramter `factor` aufgerufen werden."
   ]
  },
  {
   "cell_type": "code",
   "execution_count": 16,
   "metadata": {},
   "outputs": [
    {
     "name": "stdout",
     "output_type": "stream",
     "text": "10\n15\n"
    }
   ],
   "source": [
    "def multiply_with_factor(number, factor = 2):\n",
    "    return number * factor\n",
    "\n",
    "print(multiply_with_factor(5))\n",
    "print(multiply_with_factor(5, 3))"
   ]
  },
  {
   "cell_type": "markdown",
   "metadata": {},
   "source": [
    " Bisher wurden Funktionen imme aufgerufen indem die Paramter in der Reihenfolge übergeben wurden\n",
    " mit der sie in der Parameterliste definiert waren. Zusätzlich biete Python aber auch die Möglichkeit\n",
    " bestimmte Parameter mit ihrem Namen anszusprechen. Mit diesem Vorgehen kann die Reihenfolgen der Parameter in der\n",
    " Parameterliste ignoriert werden.\n",
    "\n",
    " Diese Vorgehen macht insbesondere in Kombimation mit Standardwerten Sinn. Die erkennen Sie z.B. an der\n",
    " Funktion `print()`. Diese ist in der Python-Standardbibliothek wie folgt definiert:\n",
    "\n",
    " `print(*objects, sep=' ', end='\\n', file=sys.stdout, flush=False)`\n",
    "\n",
    " Sie erkennen, dass die Funktion z.B. die Paramtere `sep` und `end` definiert, denen jeweil Standardwerte\n",
    " zugewiesen sind. Alle anderen Parameter werden zunächst nicht betrachtet."
   ]
  },
  {
   "cell_type": "code",
   "execution_count": 17,
   "metadata": {},
   "outputs": [
    {
     "name": "stdout",
     "output_type": "stream",
     "text": "Hallo Christian Drumm\nHallo<->Christian<->Drumm\nFH***Aachen***!\n"
    }
   ],
   "source": [
    "print(\"Hallo\", \"Christian\", \"Drumm\")\n",
    "print(\"Hallo\", \"Christian\", \"Drumm\", sep=\"<->\")\n",
    "print(\"FH\", end=\"***\")\n",
    "print(\"Aachen\", end=\"***\")\n",
    "print(\"!\")\n"
   ]
  },
  {
   "cell_type": "markdown",
   "metadata": {},
   "source": [
    " ### Docstring\n",
    " Die bisher von uns definierten Funktionen sind relativ einfach zu verstehen.\n",
    " Im allgemienen führen Funktionen jedoch komplexe Aufgaben aus. Aus diesem\n",
    " Grund sind sie ohne Erklärung oft schwierig zu verwenden. (Möglicherweise haben Sie das schon selbst bemerkt. 😉)\n",
    "\n",
    " Eine gute Funktion beinhalte immer auch eine Dokumentation ihres Verhaltens.\n",
    " In Python wird diese Dokumentation als *Docstring* bezeichnet. Der *Docstring* ist eine Beschreibung des Verhaltens\n",
    " einer Funktion sowie ihrer Paramter. Ein Docstring steht am Anfang einer Funktion"
   ]
  },
  {
   "cell_type": "code",
   "execution_count": 18,
   "metadata": {},
   "outputs": [],
   "source": [
    "def percent(x, total):\n",
    "    \"\"\"Konvertiere x in einen Prozentsatz von total.\n",
    "    \n",
    "    Genauer gesagt dividiert diese Funktion x durch total,\n",
    "    multipliziert das Ergebnis mit 100 und rundet das Ergebnis\n",
    "    auf zwei Dezimalstellen.\n",
    "    \n",
    "    >>> percent(4, 16)\n",
    "    25.0\n",
    "    >>> percent(1, 6)\n",
    "    16.67\n",
    "    \"\"\"\n",
    "    return round((x/total)*100, 2)\n"
   ]
  },
  {
   "cell_type": "markdown",
   "metadata": {},
   "source": [
    " Den Docstring einer Funktion können Sie sich in einem Jupyter-Notbook durch ein `?` nach dem Funktionsnamen anzeigen lassen"
   ]
  },
  {
   "cell_type": "code",
   "execution_count": 19,
   "metadata": {},
   "outputs": [
    {
     "ename": "SyntaxError",
     "evalue": "invalid syntax (<ipython-input-19-938b6e5ec6cd>, line 1)",
     "output_type": "error",
     "traceback": [
      "\u001B[0;36m  File \u001B[0;32m\"<ipython-input-19-938b6e5ec6cd>\"\u001B[0;36m, line \u001B[0;32m1\u001B[0m\n\u001B[0;31m    percent?\u001B[0m\n\u001B[0m           ^\u001B[0m\n\u001B[0;31mSyntaxError\u001B[0m\u001B[0;31m:\u001B[0m invalid syntax\n"
     ]
    }
   ],
   "source": [
    "percent? "
   ]
  },
  {
   "cell_type": "markdown",
   "metadata": {},
   "source": [
    " ### Sichtbarkeit von Variablen\n",
    "\n",
    " Variablen und Parameter, welche in einer Funktion definiert werden sind nur innerhalb dieser Funktion sichtbar.\n",
    " Außerhalb der Funktion sind die Variablen und Parameter unbekannt.\n",
    " Die *Sichtbarkeit* der Variablen ist in Python die Funktion beschränkt in der die Variable definiert wurde. Diese\n",
    " Variablen werden auch als *lokale Variablen* bezeichnet.\n",
    "\n",
    " Im Gegensatz besitzen Variablen, die nicht innerhlab von Funktionen definiert wurden, eine\n",
    " *Sichtbarkeit* im gesamten Programm. Insbesonder sind diese auch innerhalb von Funktionen sichtbar.\n",
    " Solche Variablen werden auch als *globale Variablen* bezeichent.\n",
    "\n",
    " **Achtung!** Die verwendugn von globalen Varibalen führt zu sehr unübersichtlichen und schwer wartbaren Programmen\n",
    " und sollte nach Möglichkeit vermieden werden.\n",
    "\n",
    " Die Sichtbarkeit von Variablen wird im Folgenden anhand zweier Beispiels erläutert. Insbesonder sehen Sie im zweiten Programm,\n",
    " dass eine lokale Variabel eine globale Variable mit dem gleichen Namen *verdeckt*. Innerhalb der Funktion hat\n",
    " die lokale Variable im Beispiel einen von der globalen Variablen abweichenden Wert."
   ]
  },
  {
   "cell_type": "code",
   "execution_count": 0,
   "metadata": {},
   "outputs": [],
   "source": [
    "def globale_variable():\n",
    "    print(s)\n",
    "\n",
    "s = \"Python\"\n",
    "globale_variable()"
   ]
  },
  {
   "cell_type": "code",
   "execution_count": 0,
   "metadata": {},
   "outputs": [],
   "source": [
    "def lokale_variable():\n",
    "    s = \"Cobra\"\n",
    "    print(s)\n",
    "\n",
    "s = \"Python\"\n",
    "lokale_variable()\n",
    "print(s)\n"
   ]
  },
  {
   "cell_type": "markdown",
   "execution_count": null,
   "metadata": {},
   "outputs": [],
   "source": [
    "### Komplexe Rückgabewerte von Funktionen\n",
    "Wie die vorherigen Beispiel schon gezeigt haben haben Funktionen einen optionalen Rückgabewert. Der Rückgabewert der Funktion steht hinter dem Schlüsselwort `return`. Eine Funktion kann genau ein Objekt als Rückgabewert liefern. Dieser Rückgabewert kann beispielsweise ein numerischer Wert wie eine ganze Zahl (Integer) oder eine Fließkommazahl (float) sein. Es ist jedoch genau so möglich einen komplexen Datentyp wie z.B. eine Liste oder ein Dictionary zurückzugeben. \n",
    "\n",
    "Soll eine Funktion also beispielsweise die drei Integer-Werte zurückliefern, können diese in ein Tupel oder eine Liste verpackt werden. Diese Liste oder Tupel können dann als Rückgabewert hinter dem Schlüsselwort return verwendet werden."
   ]
  },
  {
   "cell_type": "code",
   "execution_count": 25,
   "metadata": {},
   "outputs": [
    {
     "name": "stdout",
     "output_type": "stream",
     "text": "[6, 7, 40, 43, 45, 46, 48]\n[1, 17, 18, 20, 25, 26, 36]\n"
    }
   ],
   "source": [
    "import random\n",
    "\n",
    "def lottoziehung():\n",
    "    lottozahlen = []\n",
    "    for _ in range(7):\n",
    "        lottozahlen.append(random.randint(1, 49))\n",
    "\n",
    "    lottozahlen.sort()\n",
    "    return lottozahlen\n",
    "\n",
    "print(lottoziehung())\n",
    "print(lottoziehung())"
   ]
  },
  {
   "cell_type": "markdown",
   "metadata": {},
   "source": [
    " ### Aufgabe 2\n",
    " Nun sind Sie wieder an der Reihe. Schreiben Sie eine Python-`Funktion`, welche die Fläche eines\n",
    " Rechtecks berechnet. Hierzu sollen die Länge und Breite des Rechtecks als Parameter übergeben werden.\n",
    " Zusätzlich soll die Funktion auch die Möglichkeit bieten nur die Länge zu übergeben.\n",
    " In diesem Fall soll die Fläche eines Quadrats berechent werden (Fläche = Länge * Länge).\n",
    " Um dies zu ermöglichen müssen Sie für den Paramter Breite einen Standardwert definieren, anhand\n",
    " dessen Sie erkennen können, ob der Paramter übergeben wurde oder nicht.\n",
    "\n",
    " Der Rückgabewert der Funktion soll die Fläche des Rechtecks sein.\n",
    "\n",
    " Einen automatisierten [Test](#Tests-zur-Aufgabe-2) für Ihre Lösung finden Sie weiter untern im Dokument.\n",
    " Damit dieser funktionieren kann, nennen Sie Ihre Funktion unbedingt `rect_area`.\n",
    " Nennen Sie außerdem Ihre Parameter \"length\" und \"width\"."
   ]
  },
  {
   "cell_type": "code",
   "execution_count": 0,
   "metadata": {},
   "outputs": [],
   "source": [
    "###BEGIN SOLUTION\n",
    "\n",
    "def rect_area(length, width = -1):\n",
    "    if width == -1:\n",
    "        return length * length\n",
    "    else:\n",
    "        return length * width\n",
    "\n",
    "###END SOLUTION\n"
   ]
  },
  {
   "cell_type": "markdown",
   "execution_count": null,
   "metadata": {},
   "outputs": [],
   "source": [
    "## Destrukturierung in Zuweisungen \n",
    "In Python ist es möglich im Rahmen einer Zuweisung Listen oder Tupel in ihre Bestandteile aufzulösen. Dies wird in der nachfolgenden Zelle gezeigt:"
   ]
  },
  {
   "cell_type": "code",
   "execution_count": 27,
   "metadata": {},
   "outputs": [
    {
     "name": "stdout",
     "output_type": "stream",
     "text": "a:  1\nb:  2\nc:  3\nHallo\n"
    }
   ],
   "source": [
    "l1 = [1,2,3]\n",
    "a,b,c = l1\n",
    "print(\"a: \", a)\n",
    "print(\"b: \", b)\n",
    "print(\"c: \", c)\n",
    "\n",
    "t1 = (\"Hallo\", \"Welt\")\n",
    "x,y = t1\n",
    "print(x)"
   ]
  },
  {
   "cell_type": "markdown",
   "execution_count": null,
   "metadata": {},
   "outputs": [],
   "source": [
    "Bei den in der vorherigen Zelle gezeigten Zuweisungen müssen auf der linken Seite des `=` genau so viele Variablen stehen, wie die Liste oder der Tupel Elemente hat. Sind auf der linken Seite der Zuweisung mehr oder weniger Variablen vorhanden, kommt es zu einem Fehler. "
   ]
  },
  {
   "cell_type": "code",
   "execution_count": 28,
   "metadata": {},
   "outputs": [
    {
     "ename": "ValueError",
     "evalue": "too many values to unpack (expected 2)",
     "output_type": "error",
     "traceback": [
      "\u001B[0;31m---------------------------------------------------------------------------\u001B[0m",
      "\u001B[0;31mValueError\u001B[0m                                Traceback (most recent call last)",
      "\u001B[0;32m<ipython-input-28-ba78b8031a49>\u001B[0m in \u001B[0;36m<module>\u001B[0;34m\u001B[0m\n\u001B[1;32m      1\u001B[0m \u001B[0ml1\u001B[0m \u001B[0;34m=\u001B[0m \u001B[0;34m[\u001B[0m\u001B[0;36m1\u001B[0m\u001B[0;34m,\u001B[0m\u001B[0;36m2\u001B[0m\u001B[0;34m,\u001B[0m\u001B[0;36m3\u001B[0m\u001B[0;34m]\u001B[0m\u001B[0;34m\u001B[0m\u001B[0;34m\u001B[0m\u001B[0m\n\u001B[0;32m----> 2\u001B[0;31m \u001B[0ma\u001B[0m\u001B[0;34m,\u001B[0m\u001B[0mb\u001B[0m \u001B[0;34m=\u001B[0m \u001B[0ml1\u001B[0m\u001B[0;34m\u001B[0m\u001B[0;34m\u001B[0m\u001B[0m\n\u001B[0m",
      "\u001B[0;31mValueError\u001B[0m: too many values to unpack (expected 2)"
     ]
    }
   ],
   "source": [
    "l1 = [1,2,3]\n",
    "a,b = l1"
   ]
  },
  {
   "cell_type": "code",
   "execution_count": 29,
   "metadata": {},
   "outputs": [
    {
     "ename": "ValueError",
     "evalue": "not enough values to unpack (expected 4, got 3)",
     "output_type": "error",
     "traceback": [
      "\u001B[0;31m---------------------------------------------------------------------------\u001B[0m",
      "\u001B[0;31mValueError\u001B[0m                                Traceback (most recent call last)",
      "\u001B[0;32m<ipython-input-29-9fad2498646f>\u001B[0m in \u001B[0;36m<module>\u001B[0;34m\u001B[0m\n\u001B[1;32m      1\u001B[0m \u001B[0ml1\u001B[0m \u001B[0;34m=\u001B[0m \u001B[0;34m[\u001B[0m\u001B[0;36m1\u001B[0m\u001B[0;34m,\u001B[0m\u001B[0;36m2\u001B[0m\u001B[0;34m,\u001B[0m\u001B[0;36m3\u001B[0m\u001B[0;34m]\u001B[0m\u001B[0;34m\u001B[0m\u001B[0;34m\u001B[0m\u001B[0m\n\u001B[0;32m----> 2\u001B[0;31m \u001B[0ma\u001B[0m\u001B[0;34m,\u001B[0m\u001B[0mb\u001B[0m\u001B[0;34m,\u001B[0m\u001B[0mc\u001B[0m\u001B[0;34m,\u001B[0m\u001B[0md\u001B[0m  \u001B[0;34m=\u001B[0m \u001B[0ml1\u001B[0m\u001B[0;34m\u001B[0m\u001B[0;34m\u001B[0m\u001B[0m\n\u001B[0m",
      "\u001B[0;31mValueError\u001B[0m: not enough values to unpack (expected 4, got 3)"
     ]
    }
   ],
   "source": [
    "l1 = [1,2,3]\n",
    "a,b,c,d  = l1"
   ]
  },
  {
   "cell_type": "markdown",
   "execution_count": null,
   "metadata": {},
   "outputs": [],
   "source": [
    "Es ist jedoch auch möglich bestimmte Elemente in der Zuweisung zu ignorieren. Hierzu wird der `_`verwendet. Außerdem kauch eine Teil der Zuweisung weider zu eine Liste zugeweisen werden. Dies wird in der nachfolgenden Zelle gezeigt."
   ]
  },
  {
   "cell_type": "code",
   "execution_count": 30,
   "metadata": {},
   "outputs": [
    {
     "name": "stdout",
     "output_type": "stream",
     "text": "4\n"
    }
   ],
   "source": [
    "l1 = [1,2,3, 4]\n",
    "a, _, _ , b = l1\n",
    "print(b)"
   ]
  },
  {
   "cell_type": "code",
   "execution_count": 31,
   "metadata": {},
   "outputs": [
    {
     "name": "stdout",
     "output_type": "stream",
     "text": "a:  1\nrest:  [2, 3, 4, 5, 6, 7, 8, 9]\na:  1\nmitte:  [2, 3, 4, 5, 6, 7, 8]\nb:  9\n"
    }
   ],
   "source": [
    "l1 = [1,2,3,4,5,6,7,8,9]\n",
    "a, *rest = l1\n",
    "print(\"a: \", a)\n",
    "print(\"rest: \", rest)\n",
    "\n",
    "\n",
    "a, *mitte, b = l1\n",
    "print(\"a: \", a)\n",
    "print(\"mitte: \", mitte)\n",
    "print(\"b: \", b)"
   ]
  },
  {
   "cell_type": "code",
   "execution_count": 32,
   "metadata": {},
   "outputs": [
    {
     "name": "stdout",
     "output_type": "stream",
     "text": "a:  1\nb:  3\nteil:  [4, 5, 6, 7, 8]\n"
    }
   ],
   "source": [
    "l1 = [1,2,3,4,5,6,7,8,9]\n",
    "a, _, b, *teil, _ = l1\n",
    "print(\"a: \", a)\n",
    "print(\"b: \", b)\n",
    "print(\"teil: \", teil)"
   ]
  },
  {
   "cell_type": "code",
   "execution_count": null,
   "metadata": {},
   "outputs": [],
   "source": [
    "Die Destrukturierung ist insbesonder im Zusammenspiel mit Funktionen, die koplexte Datentypen als Rückgabewerte verenden, nützlich.\n"
   ]
  },
  {
   "cell_type": "code",
   "execution_count": 33,
   "metadata": {},
   "outputs": [
    {
     "name": "stdout",
     "output_type": "stream",
     "text": "1\n44\n"
    }
   ],
   "source": [
    "import random\n",
    "\n",
    "def lottoziehung():\n",
    "    lottozahlen = []\n",
    "    for _ in range(7):\n",
    "        lottozahlen.append(random.randint(1, 49))\n",
    "\n",
    "    lottozahlen.sort()\n",
    "    return lottozahlen\n",
    "\n",
    "kleinste_lottozahl, *restliche_lottozahlen, größte_lottozahl = lottoziehung()\n",
    "\n",
    "print(kleinste_lottozahl)\n",
    "print(größte_lottozahl)"
   ]
  },
  {
   "cell_type": "markdown",
   "metadata": {},
   "source": [
    " ***\n",
    " ## Automatisierte Test zu den Übungen\n",
    " Ab hier finden Sie einige automatisierte Tests um Ihre Lösungen zu überprüfen.\n",
    " Um Ihre Lösung zu prüfen führen Sie bitte zuerst die Zelle mit Ihrer Lösung und danach die Zelle mit dem zugehörigen Test aus.\n"
   ]
  },
  {
   "cell_type": "markdown",
   "metadata": {},
   "source": [
    " ### Tests zur [Aufgabe 1](#Aufgabe-1)"
   ]
  },
  {
   "cell_type": "code",
   "execution_count": 0,
   "metadata": {},
   "outputs": [],
   "source": [
    "assert palindrome(\"89kjhg \\~~\\ ghjk98\") == True, \"Die Funktion funktioniert nicht korrekt. Das Pallindrom 89kjhg \\~~\\ ghjk98 wurde nicht erkannt.\"\n"
   ]
  },
  {
   "cell_type": "code",
   "execution_count": 0,
   "metadata": {},
   "outputs": [],
   "source": [
    "assert palindrome(\"89kjhghjk98\") == True, \"Die Funktion sollte auch bei Zeichenketten ungerader Länge funktionieren\"\n"
   ]
  },
  {
   "cell_type": "code",
   "execution_count": 0,
   "metadata": {},
   "outputs": [],
   "source": [
    "assert palindrome(\"Lagerregal\") == True, \"Die Funktion sollte Groß-/Kleinschreibung ignorieren.\"\n"
   ]
  },
  {
   "cell_type": "markdown",
   "metadata": {},
   "source": [
    " ### Tests zur [Aufgabe 2](#Aufgabe-2)"
   ]
  },
  {
   "cell_type": "code",
   "execution_count": 0,
   "metadata": {},
   "outputs": [],
   "source": [
    "assert rect_area(5, 7) == 35, \"Die Funktion funktioniert nicht korrekt. Die Fläche eines Rechecks mit den Seiten 5 und 7 sollte 35 sein.\"\n",
    "\n"
   ]
  },
  {
   "cell_type": "code",
   "execution_count": 0,
   "metadata": {},
   "outputs": [],
   "source": [
    "assert rect_area(length = 5, width = 7) == 35, \"Die Parameter haben nicht die vorgegebenen Namen\"\n",
    "\n"
   ]
  },
  {
   "cell_type": "code",
   "execution_count": 0,
   "metadata": {},
   "outputs": [],
   "source": [
    "assert rect_area(length = 7) == 49, \"Die Funktion sollte auch funktionieren wenn nur die Länge übergeben wird.\"\n",
    "\n",
    "\n"
   ]
  }
 ],
 "nbformat": 4,
 "nbformat_minor": 2,
 "metadata": {
  "language_info": {
   "name": "python",
   "codemirror_mode": {
    "name": "ipython",
    "version": 3
   }
  },
  "orig_nbformat": 2,
  "file_extension": ".py",
  "mimetype": "text/x-python",
  "name": "python",
  "npconvert_exporter": "python",
  "pygments_lexer": "ipython3",
  "version": 3
 }
}