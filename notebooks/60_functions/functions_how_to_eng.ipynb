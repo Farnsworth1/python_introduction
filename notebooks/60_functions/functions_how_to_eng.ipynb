{
 "nbformat": 4,
 "nbformat_minor": 2,
 "metadata": {
  "language_info": {
   "name": "python",
   "codemirror_mode": {
    "name": "ipython",
    "version": 3
   }
  },
  "orig_nbformat": 2,
  "file_extension": ".py",
  "mimetype": "text/x-python",
  "name": "python",
  "npconvert_exporter": "python",
  "pygments_lexer": "ipython3",
  "version": 3
 },
 "cells": [
  {
   "cell_type": "markdown",
   "execution_count": null,
   "metadata": {},
   "outputs": [],
   "source": [
    " # How-Tos für Funktionen\n",
    " * [Funktionen ohne Parameter](#Funktionen-ohne-Parameter)\n",
    " * [Funktionen mit Parametern](#Funktionen-mit-Parametern)\n",
    " * [Standardwerte für Parameter](#Standardwerte-für-Parameter)\n",
    " * [Funktionen ohne Rückgabewert](#Funktionen-ohne-Rückgabewert)\n",
    " * [Funktionen mit Rückgabewert](#Funktionen-mit-Rückgabewert)"
   ]
  },
  {
   "cell_type": "markdown",
   "execution_count": null,
   "metadata": {},
   "outputs": [],
   "source": [
    "# How-Tos für Destrukturierung \n",
    " * [Destrukturierung](#Destrukturierung)\n",
    " * [Destrukturierung und Funktionen](#Destrukturierung-und-Funktionen)"
   ]
  },
  {
   "cell_type": "markdown",
   "execution_count": null,
   "metadata": {},
   "outputs": [],
   "source": [
    "## Funktionen ohne Parameter"
   ]
  },
  {
   "cell_type": "code",
   "execution_count": null,
   "metadata": {},
   "outputs": [],
   "source": [
    "def the_answer_to_everything():\n",
    "    return 42\n",
    "\n",
    "print(\"Was ist die Antwort auf die Frage nach dem Leben, dem Universum und dem ganzen Rest?\", the_answer_to_everything())  "
   ]
  },
  {
   "cell_type": "markdown",
   "execution_count": null,
   "metadata": {},
   "outputs": [],
   "source": [
    "## Funktionen mit Parametern"
   ]
  },
  {
   "cell_type": "code",
   "execution_count": null,
   "metadata": {},
   "outputs": [],
   "source": [
    "def sum(a, b):\n",
    "    return a + b\n",
    "    \n",
    "print(\"Was ist die Summe von 39 und 3?\", sum(39,3))"
   ]
  },
  {
   "cell_type": "markdown",
   "execution_count": null,
   "metadata": {},
   "outputs": [],
   "source": [
    "## Standardwerte für Parameter"
   ]
  },
  {
   "cell_type": "code",
   "execution_count": null,
   "metadata": {},
   "outputs": [],
   "source": [
    "def multiply_with_factor(number, factor = 2):\n",
    "    return number * factor\n",
    "\n",
    "print(multiply_with_factor(5))\n",
    "print(multiply_with_factor(5, 3))"
   ]
  },
  {
   "cell_type": "markdown",
   "execution_count": null,
   "metadata": {},
   "outputs": [],
   "source": [
    "## Funktionen ohne Rückgabewert"
   ]
  },
  {
   "cell_type": "code",
   "execution_count": 34,
   "metadata": {},
   "outputs": [],
   "source": [
    "def sag_hallo(name):\n",
    "    print(\"Hallo \" + name)\n",
    "\n",
    "sag_hallo(\"Christian\")    "
   ]
  },
  {
   "cell_type": "markdown",
   "execution_count": null,
   "metadata": {},
   "outputs": [],
   "source": [
    "## Funktionen mit Rückgabewerten\n",
    "### Einfacher Rückgabewert"
   ]
  },
  {
   "cell_type": "code",
   "execution_count": null,
   "metadata": {},
   "outputs": [],
   "source": [
    "def sum(a, b):\n",
    "    return a + b\n",
    "\n",
    "print(sum(3,4))"
   ]
  },
  {
   "cell_type": "markdown",
   "execution_count": null,
   "metadata": {},
   "outputs": [],
   "source": [
    "### Komplexer Rückgabewert\n"
   ]
  },
  {
   "cell_type": "code",
   "execution_count": 37,
   "metadata": {},
   "outputs": [],
   "source": [
    "import random\n",
    "\n",
    "def zahlenliste():\n",
    "    zufallszahlen = []\n",
    "    for _ in range(10):\n",
    "        zufallszahlen.append(random.randint(0,1000))\n",
    "    return zufallszahlen\n",
    "\n",
    "print(zahlenliste())        "
   ]
  },
  {
   "cell_type": "markdown",
   "execution_count": null,
   "metadata": {},
   "outputs": [],
   "source": [
    "## Destrukturierung"
   ]
  },
  {
   "cell_type": "code",
   "execution_count": null,
   "metadata": {},
   "outputs": [],
   "source": [
    "l1 = [1,2,3]\n",
    "a,b,c  = l1\n",
    "print(\"a: \", a)\n",
    "print(\"b: \", b)\n",
    "print(\"c: \", c)\n",
    "\n",
    "a, *rest = l1\n",
    "print(\"a: \", a)\n",
    "print(\"rest: \", rest)"
   ]
  },
  {
   "cell_type": "markdown",
   "execution_count": null,
   "metadata": {},
   "outputs": [],
   "source": [
    "## Destrukturierung und Funktionen"
   ]
  },
  {
   "cell_type": "code",
   "execution_count": 38,
   "metadata": {},
   "outputs": [],
   "source": [
    "import random\n",
    "\n",
    "def zahlenliste():\n",
    "    zufallszahlen = []\n",
    "    for _ in range(10):\n",
    "        zufallszahlen.append(random.randint(0,1000))\n",
    "    return zufallszahlen\n",
    "\n",
    "erste_zufallszahl, *rest = zahlenliste()\n",
    "print(erste_zufallszahl)\n",
    "print(rest)    "
   ]
  }
 ]
}